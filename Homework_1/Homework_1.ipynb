{
 "cells": [
  {
   "cell_type": "code",
   "execution_count": 1,
   "id": "dc43b67b",
   "metadata": {},
   "outputs": [],
   "source": [
    "import torch"
   ]
  },
  {
   "cell_type": "code",
   "execution_count": 2,
   "id": "206132ff",
   "metadata": {},
   "outputs": [
    {
     "data": {
      "text/plain": [
       "True"
      ]
     },
     "execution_count": 2,
     "metadata": {},
     "output_type": "execute_result"
    }
   ],
   "source": [
    "torch.cuda.is_available()"
   ]
  },
  {
   "cell_type": "code",
   "execution_count": 3,
   "id": "59726fc3",
   "metadata": {},
   "outputs": [
    {
     "name": "stdout",
     "output_type": "stream",
     "text": [
      "Поддерживается ли CUDA : True\n",
      "Количество гпу девайсов: 1\n",
      "Характеристики видеокарты : _CudaDeviceProperties(name='NVIDIA GeForce RTX 3070', major=8, minor=6, total_memory=8191MB, multi_processor_count=46)\n",
      "cuda:0\n"
     ]
    }
   ],
   "source": [
    "print(f\"Поддерживается ли CUDA : {torch.cuda.is_available()}\")\n",
    "print(f'Количество гпу девайсов: {torch.cuda.device_count()}')\n",
    "print(f\"Характеристики видеокарты : {torch.cuda.get_device_properties(0)}\")\n",
    "\n",
    "torch.cuda.empty_cache()\n",
    "\n",
    "device = torch.device(\"cuda:0\" if torch.cuda.is_available() else \"cpu\")\n",
    "print(device)"
   ]
  },
  {
   "cell_type": "code",
   "execution_count": 4,
   "id": "2ffed1e6",
   "metadata": {},
   "outputs": [
    {
     "name": "stdout",
     "output_type": "stream",
     "text": [
      "torch.cuda.FloatTensor\n"
     ]
    },
    {
     "data": {
      "text/plain": [
       "tensor([[[-1.2140e+00, -2.3889e-01,  1.0213e+00, -2.8485e-01,  6.8664e-01],\n",
       "         [ 5.8503e-01, -4.8499e-01,  8.2941e-01,  2.1146e+00,  7.3741e-01],\n",
       "         [-6.0828e-01, -6.6956e-01,  1.3192e+00,  2.2609e-01,  6.6949e-01],\n",
       "         [-5.2774e-01,  2.0626e+00, -7.0107e-01,  2.8536e-01,  9.6267e-01]],\n",
       "\n",
       "        [[-1.9608e-01, -7.4760e-01,  1.9514e+00,  1.6905e+00,  1.3880e+00],\n",
       "         [ 3.1928e-01, -1.0130e+00, -1.2265e+00, -1.4999e+00,  1.5898e-01],\n",
       "         [ 1.7897e+00,  2.8947e-01, -7.1788e-01,  9.3154e-01,  2.2785e+00],\n",
       "         [-4.4310e-01, -3.7016e-01, -9.0823e-01,  1.9107e-01,  1.6231e+00]],\n",
       "\n",
       "        [[-1.6215e-02, -4.1448e-01, -3.8543e-01, -4.9289e-01, -1.3554e+00],\n",
       "         [ 6.8755e-01, -1.1439e+00, -1.3369e+00,  7.4505e-01,  7.3330e-02],\n",
       "         [ 1.5714e-01, -1.4087e-01,  9.1793e-01,  1.4163e+00,  1.3454e+00],\n",
       "         [-2.0228e-03, -6.8443e-01,  1.1012e+00, -1.6607e-01, -7.1271e-02]]],\n",
       "       device='cuda:0')"
      ]
     },
     "execution_count": 4,
     "metadata": {},
     "output_type": "execute_result"
    }
   ],
   "source": [
    "# 1. Создайте случайный FloatTensor размера 3x4x5\n",
    "a = torch.randn(size=(3, 4, 5)).type(torch.FloatTensor).to(device)\n",
    "print(a.type())\n",
    "a"
   ]
  },
  {
   "cell_type": "code",
   "execution_count": 5,
   "id": "a89a0562",
   "metadata": {},
   "outputs": [
    {
     "data": {
      "text/plain": [
       "torch.Size([3, 4, 5])"
      ]
     },
     "execution_count": 5,
     "metadata": {},
     "output_type": "execute_result"
    }
   ],
   "source": [
    "# 2. Выведите его форму (shape)\n",
    "a.shape"
   ]
  },
  {
   "cell_type": "code",
   "execution_count": 6,
   "id": "b6736bd2",
   "metadata": {},
   "outputs": [
    {
     "name": "stdout",
     "output_type": "stream",
     "text": [
      "torch.Size([6, 10])\n"
     ]
    },
    {
     "data": {
      "text/plain": [
       "tensor([[-1.2140e+00, -2.3889e-01,  1.0213e+00, -2.8485e-01,  6.8664e-01,\n",
       "          5.8503e-01, -4.8499e-01,  8.2941e-01,  2.1146e+00,  7.3741e-01],\n",
       "        [-6.0828e-01, -6.6956e-01,  1.3192e+00,  2.2609e-01,  6.6949e-01,\n",
       "         -5.2774e-01,  2.0626e+00, -7.0107e-01,  2.8536e-01,  9.6267e-01],\n",
       "        [-1.9608e-01, -7.4760e-01,  1.9514e+00,  1.6905e+00,  1.3880e+00,\n",
       "          3.1928e-01, -1.0130e+00, -1.2265e+00, -1.4999e+00,  1.5898e-01],\n",
       "        [ 1.7897e+00,  2.8947e-01, -7.1788e-01,  9.3154e-01,  2.2785e+00,\n",
       "         -4.4310e-01, -3.7016e-01, -9.0823e-01,  1.9107e-01,  1.6231e+00],\n",
       "        [-1.6215e-02, -4.1448e-01, -3.8543e-01, -4.9289e-01, -1.3554e+00,\n",
       "          6.8755e-01, -1.1439e+00, -1.3369e+00,  7.4505e-01,  7.3330e-02],\n",
       "        [ 1.5714e-01, -1.4087e-01,  9.1793e-01,  1.4163e+00,  1.3454e+00,\n",
       "         -2.0228e-03, -6.8443e-01,  1.1012e+00, -1.6607e-01, -7.1271e-02]],\n",
       "       device='cuda:0')"
      ]
     },
     "execution_count": 6,
     "metadata": {},
     "output_type": "execute_result"
    }
   ],
   "source": [
    "# 3. Приведите его к форме 6х10\n",
    "\n",
    "b = a.reshape(6, 10)\n",
    "print(b.shape)\n",
    "b"
   ]
  },
  {
   "cell_type": "code",
   "execution_count": 7,
   "id": "f521e13a",
   "metadata": {},
   "outputs": [
    {
     "name": "stdout",
     "output_type": "stream",
     "text": [
      "torch.cuda.IntTensor\n"
     ]
    },
    {
     "data": {
      "text/plain": [
       "tensor([69, 94, 60, 94, 90, 37, 30, 73, 85,  1], device='cuda:0',\n",
       "       dtype=torch.int32)"
      ]
     },
     "execution_count": 7,
     "metadata": {},
     "output_type": "execute_result"
    }
   ],
   "source": [
    "# 4. Создайте случайный IntTensor размера 10\n",
    "\n",
    "x = torch.randint(100, size=(10,)).type(torch.IntTensor).to(device)\n",
    "print(x.type())\n",
    "x"
   ]
  },
  {
   "cell_type": "code",
   "execution_count": 8,
   "id": "b71682c7",
   "metadata": {},
   "outputs": [
    {
     "data": {
      "text/plain": [
       "tensor([[-8.3768e+01, -2.2456e+01,  6.1280e+01, -2.6776e+01,  6.1798e+01,\n",
       "          2.1646e+01, -1.4550e+01,  6.0547e+01,  1.7974e+02,  7.3741e-01],\n",
       "        [-4.1972e+01, -6.2939e+01,  7.9151e+01,  2.1252e+01,  6.0255e+01,\n",
       "         -1.9527e+01,  6.1879e+01, -5.1178e+01,  2.4255e+01,  9.6267e-01],\n",
       "        [-1.3529e+01, -7.0274e+01,  1.1709e+02,  1.5891e+02,  1.2492e+02,\n",
       "          1.1813e+01, -3.0389e+01, -8.9536e+01, -1.2749e+02,  1.5898e-01],\n",
       "        [ 1.2349e+02,  2.7210e+01, -4.3073e+01,  8.7565e+01,  2.0507e+02,\n",
       "         -1.6395e+01, -1.1105e+01, -6.6301e+01,  1.6241e+01,  1.6231e+00],\n",
       "        [-1.1188e+00, -3.8961e+01, -2.3126e+01, -4.6331e+01, -1.2199e+02,\n",
       "          2.5439e+01, -3.4318e+01, -9.7593e+01,  6.3329e+01,  7.3330e-02],\n",
       "        [ 1.0842e+01, -1.3242e+01,  5.5076e+01,  1.3313e+02,  1.2109e+02,\n",
       "         -7.4845e-02, -2.0533e+01,  8.0389e+01, -1.4116e+01, -7.1271e-02]],\n",
       "       device='cuda:0')"
      ]
     },
     "execution_count": 8,
     "metadata": {},
     "output_type": "execute_result"
    }
   ],
   "source": [
    "# 5. Умножьте созданный FloatTensor на созданный IntTensor поэлементно\n",
    "\n",
    "b * x"
   ]
  },
  {
   "cell_type": "code",
   "execution_count": 9,
   "id": "6ba3fbf4",
   "metadata": {},
   "outputs": [
    {
     "data": {
      "text/plain": [
       "tensor([[ 9.4075,  2.0638, -0.5125, -0.9080,  0.4125,  2.1412],\n",
       "        [ 2.0638,  9.0905,  2.8326,  1.2307, -2.7418,  0.1319],\n",
       "        [-0.5125,  2.8326, 14.0969,  4.0879, -1.2414,  5.7071],\n",
       "        [-0.9080,  1.2307,  4.0879, 13.6907, -1.8254,  3.0730],\n",
       "        [ 0.4125, -2.7418, -1.2414, -1.8254,  6.5298, -3.6392],\n",
       "        [ 2.1412,  0.1319,  5.7071,  3.0730, -3.6392,  6.4169]],\n",
       "       device='cuda:0')"
      ]
     },
     "execution_count": 9,
     "metadata": {},
     "output_type": "execute_result"
    }
   ],
   "source": [
    "# 6. Умножьте тензор матрично на себя, чтобы результат был размерности 6x6\n",
    "# Подсказка: .dot может не подойти\n",
    "\n",
    "b @ b.T"
   ]
  },
  {
   "cell_type": "code",
   "execution_count": 10,
   "id": "153f4f90",
   "metadata": {},
   "outputs": [
    {
     "data": {
      "text/plain": [
       "(tensor([3.]), tensor([1.]), tensor([-75.]))"
      ]
     },
     "execution_count": 10,
     "metadata": {},
     "output_type": "execute_result"
    }
   ],
   "source": [
    "# 7. Посчитайте производную функции y = x**3 + z - 75t в точке (1, 0.5, 2)\n",
    "\n",
    "x = torch.tensor([1.], requires_grad=True)\n",
    "z = torch.tensor([0.5], requires_grad=True)\n",
    "t = torch.tensor([2.], requires_grad=True)\n",
    "\n",
    "y = x ** 3 + z - 75 * t\n",
    "y.backward()\n",
    "\n",
    "x.grad, z.grad, t.grad"
   ]
  },
  {
   "cell_type": "code",
   "execution_count": 11,
   "id": "3e589669",
   "metadata": {},
   "outputs": [
    {
     "data": {
      "text/plain": [
       "tensor([[1., 1., 1., 1., 1., 1.],\n",
       "        [1., 1., 1., 1., 1., 1.],\n",
       "        [1., 1., 1., 1., 1., 1.],\n",
       "        [1., 1., 1., 1., 1., 1.],\n",
       "        [1., 1., 1., 1., 1., 1.]], device='cuda:0')"
      ]
     },
     "execution_count": 11,
     "metadata": {},
     "output_type": "execute_result"
    }
   ],
   "source": [
    "# 8. Создайте единичный тензор размера 5x6\n",
    "\n",
    "one = torch.ones(size=(5, 6), device=device)\n",
    "one"
   ]
  },
  {
   "cell_type": "code",
   "execution_count": 12,
   "id": "e72f4cf7",
   "metadata": {},
   "outputs": [
    {
     "data": {
      "text/plain": [
       "array([[1., 1., 1., 1., 1., 1.],\n",
       "       [1., 1., 1., 1., 1., 1.],\n",
       "       [1., 1., 1., 1., 1., 1.],\n",
       "       [1., 1., 1., 1., 1., 1.],\n",
       "       [1., 1., 1., 1., 1., 1.]], dtype=float32)"
      ]
     },
     "execution_count": 12,
     "metadata": {},
     "output_type": "execute_result"
    }
   ],
   "source": [
    "# 9. Переведите его в формат numpy\n",
    "\n",
    "one.to('cpu').numpy()"
   ]
  }
 ],
 "metadata": {
  "kernelspec": {
   "display_name": "Python 3 (ipykernel)",
   "language": "python",
   "name": "python3"
  },
  "language_info": {
   "codemirror_mode": {
    "name": "ipython",
    "version": 3
   },
   "file_extension": ".py",
   "mimetype": "text/x-python",
   "name": "python",
   "nbconvert_exporter": "python",
   "pygments_lexer": "ipython3",
   "version": "3.9.7"
  }
 },
 "nbformat": 4,
 "nbformat_minor": 5
}
