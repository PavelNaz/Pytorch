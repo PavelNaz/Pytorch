{
 "cells": [
  {
   "cell_type": "code",
   "execution_count": 1,
   "id": "289d6319",
   "metadata": {},
   "outputs": [
    {
     "name": "stdout",
     "output_type": "stream",
     "text": [
      "Requirement already satisfied: stop-words in d:\\anaconda\\lib\\site-packages (2018.7.23)\n",
      "Requirement already satisfied: pymorphy2 in d:\\anaconda\\lib\\site-packages (0.9.1)\n",
      "Requirement already satisfied: pymorphy2-dicts-ru<3.0,>=2.4 in d:\\anaconda\\lib\\site-packages (from pymorphy2) (2.4.417127.4579844)\n",
      "Requirement already satisfied: docopt>=0.6 in d:\\anaconda\\lib\\site-packages (from pymorphy2) (0.6.2)\n",
      "Requirement already satisfied: dawg-python>=0.7.1 in d:\\anaconda\\lib\\site-packages (from pymorphy2) (0.7.2)\n"
     ]
    }
   ],
   "source": [
    "!pip install stop-words pymorphy2"
   ]
  },
  {
   "cell_type": "code",
   "execution_count": 2,
   "id": "8c9ae86e",
   "metadata": {},
   "outputs": [
    {
     "name": "stderr",
     "output_type": "stream",
     "text": [
      "[nltk_data] Downloading package wordnet to\n",
      "[nltk_data]     C:\\Users\\Pavel_Nazarenko\\AppData\\Roaming\\nltk_data...\n",
      "[nltk_data]   Package wordnet is already up-to-date!\n",
      "[nltk_data] Downloading package punkt to\n",
      "[nltk_data]     C:\\Users\\Pavel_Nazarenko\\AppData\\Roaming\\nltk_data...\n",
      "[nltk_data]   Package punkt is already up-to-date!\n",
      "[nltk_data] Downloading package stopwords to\n",
      "[nltk_data]     C:\\Users\\Pavel_Nazarenko\\AppData\\Roaming\\nltk_data...\n",
      "[nltk_data]   Package stopwords is already up-to-date!\n"
     ]
    }
   ],
   "source": [
    "from string import punctuation\n",
    "from stop_words import get_stop_words\n",
    "from pymorphy2 import MorphAnalyzer\n",
    "import re\n",
    "\n",
    "import numpy as np\n",
    "import pandas as pd\n",
    "import matplotlib.pyplot as plt\n",
    "\n",
    "from sklearn.model_selection import train_test_split\n",
    "\n",
    "import torch\n",
    "import torch.nn as nn\n",
    "import torch.nn.functional as F\n",
    "from torch.utils.data import DataLoader, Dataset\n",
    "\n",
    "import nltk\n",
    "nltk.download('wordnet')\n",
    "nltk.download(\"punkt\")\n",
    "nltk.download('stopwords')\n",
    "from nltk.stem import WordNetLemmatizer \n",
    "from nltk.corpus import stopwords\n",
    "from nltk.tokenize import word_tokenize\n",
    "from nltk.probability import FreqDist"
   ]
  },
  {
   "cell_type": "code",
   "execution_count": 3,
   "id": "40f67521",
   "metadata": {},
   "outputs": [],
   "source": [
    "max_words = 2000\n",
    "max_len = 20\n",
    "num_classes = 1\n",
    "\n",
    "epochs = 15\n",
    "batch_size = 512\n",
    "print_batch_n = 100"
   ]
  },
  {
   "cell_type": "code",
   "execution_count": 4,
   "id": "64d5f83f",
   "metadata": {},
   "outputs": [
    {
     "data": {
      "text/html": [
       "<div>\n",
       "<style scoped>\n",
       "    .dataframe tbody tr th:only-of-type {\n",
       "        vertical-align: middle;\n",
       "    }\n",
       "\n",
       "    .dataframe tbody tr th {\n",
       "        vertical-align: top;\n",
       "    }\n",
       "\n",
       "    .dataframe thead th {\n",
       "        text-align: right;\n",
       "    }\n",
       "</style>\n",
       "<table border=\"1\" class=\"dataframe\">\n",
       "  <thead>\n",
       "    <tr style=\"text-align: right;\">\n",
       "      <th></th>\n",
       "      <th>id</th>\n",
       "      <th>label</th>\n",
       "      <th>tweet</th>\n",
       "    </tr>\n",
       "  </thead>\n",
       "  <tbody>\n",
       "    <tr>\n",
       "      <th>0</th>\n",
       "      <td>1</td>\n",
       "      <td>0</td>\n",
       "      <td>@user when a father is dysfunctional and is s...</td>\n",
       "    </tr>\n",
       "    <tr>\n",
       "      <th>1</th>\n",
       "      <td>2</td>\n",
       "      <td>0</td>\n",
       "      <td>@user @user thanks for #lyft credit i can't us...</td>\n",
       "    </tr>\n",
       "    <tr>\n",
       "      <th>2</th>\n",
       "      <td>3</td>\n",
       "      <td>0</td>\n",
       "      <td>bihday your majesty</td>\n",
       "    </tr>\n",
       "    <tr>\n",
       "      <th>3</th>\n",
       "      <td>4</td>\n",
       "      <td>0</td>\n",
       "      <td>#model   i love u take with u all the time in ...</td>\n",
       "    </tr>\n",
       "    <tr>\n",
       "      <th>4</th>\n",
       "      <td>5</td>\n",
       "      <td>0</td>\n",
       "      <td>factsguide: society now    #motivation</td>\n",
       "    </tr>\n",
       "  </tbody>\n",
       "</table>\n",
       "</div>"
      ],
      "text/plain": [
       "   id  label                                              tweet\n",
       "0   1      0   @user when a father is dysfunctional and is s...\n",
       "1   2      0  @user @user thanks for #lyft credit i can't us...\n",
       "2   3      0                                bihday your majesty\n",
       "3   4      0  #model   i love u take with u all the time in ...\n",
       "4   5      0             factsguide: society now    #motivation"
      ]
     },
     "execution_count": 4,
     "metadata": {},
     "output_type": "execute_result"
    }
   ],
   "source": [
    "dataset_train  = 'train.csv'\n",
    "dataset_test  = 'test.csv'\n",
    "data_train = pd.read_csv(dataset_train, encoding='utf-8')\n",
    "data_test = pd.read_csv(dataset_test, encoding='utf-8')\n",
    "data_train.head()"
   ]
  },
  {
   "cell_type": "code",
   "execution_count": 5,
   "id": "431f1525",
   "metadata": {},
   "outputs": [
    {
     "data": {
      "text/html": [
       "<div>\n",
       "<style scoped>\n",
       "    .dataframe tbody tr th:only-of-type {\n",
       "        vertical-align: middle;\n",
       "    }\n",
       "\n",
       "    .dataframe tbody tr th {\n",
       "        vertical-align: top;\n",
       "    }\n",
       "\n",
       "    .dataframe thead th {\n",
       "        text-align: right;\n",
       "    }\n",
       "</style>\n",
       "<table border=\"1\" class=\"dataframe\">\n",
       "  <thead>\n",
       "    <tr style=\"text-align: right;\">\n",
       "      <th></th>\n",
       "      <th>id</th>\n",
       "      <th>tweet</th>\n",
       "    </tr>\n",
       "  </thead>\n",
       "  <tbody>\n",
       "    <tr>\n",
       "      <th>0</th>\n",
       "      <td>31963</td>\n",
       "      <td>#studiolife #aislife #requires #passion #dedic...</td>\n",
       "    </tr>\n",
       "    <tr>\n",
       "      <th>1</th>\n",
       "      <td>31964</td>\n",
       "      <td>@user #white #supremacists want everyone to s...</td>\n",
       "    </tr>\n",
       "    <tr>\n",
       "      <th>2</th>\n",
       "      <td>31965</td>\n",
       "      <td>safe ways to heal your #acne!!    #altwaystohe...</td>\n",
       "    </tr>\n",
       "    <tr>\n",
       "      <th>3</th>\n",
       "      <td>31966</td>\n",
       "      <td>is the hp and the cursed child book up for res...</td>\n",
       "    </tr>\n",
       "    <tr>\n",
       "      <th>4</th>\n",
       "      <td>31967</td>\n",
       "      <td>3rd #bihday to my amazing, hilarious #nephew...</td>\n",
       "    </tr>\n",
       "  </tbody>\n",
       "</table>\n",
       "</div>"
      ],
      "text/plain": [
       "      id                                              tweet\n",
       "0  31963  #studiolife #aislife #requires #passion #dedic...\n",
       "1  31964   @user #white #supremacists want everyone to s...\n",
       "2  31965  safe ways to heal your #acne!!    #altwaystohe...\n",
       "3  31966  is the hp and the cursed child book up for res...\n",
       "4  31967    3rd #bihday to my amazing, hilarious #nephew..."
      ]
     },
     "execution_count": 5,
     "metadata": {},
     "output_type": "execute_result"
    }
   ],
   "source": [
    "data_test.head()"
   ]
  },
  {
   "cell_type": "code",
   "execution_count": 6,
   "id": "14cb8ef4",
   "metadata": {},
   "outputs": [
    {
     "data": {
      "text/html": [
       "<div>\n",
       "<style scoped>\n",
       "    .dataframe tbody tr th:only-of-type {\n",
       "        vertical-align: middle;\n",
       "    }\n",
       "\n",
       "    .dataframe tbody tr th {\n",
       "        vertical-align: top;\n",
       "    }\n",
       "\n",
       "    .dataframe thead th {\n",
       "        text-align: right;\n",
       "    }\n",
       "</style>\n",
       "<table border=\"1\" class=\"dataframe\">\n",
       "  <thead>\n",
       "    <tr style=\"text-align: right;\">\n",
       "      <th></th>\n",
       "      <th>id</th>\n",
       "      <th>label</th>\n",
       "      <th>tweet</th>\n",
       "    </tr>\n",
       "  </thead>\n",
       "  <tbody>\n",
       "    <tr>\n",
       "      <th>24838</th>\n",
       "      <td>24839</td>\n",
       "      <td>0</td>\n",
       "      <td>#dreamcatcher   bull up: you will dominate you...</td>\n",
       "    </tr>\n",
       "    <tr>\n",
       "      <th>18674</th>\n",
       "      <td>18675</td>\n",
       "      <td>0</td>\n",
       "      <td>@user when are you releasing the remix album.....</td>\n",
       "    </tr>\n",
       "    <tr>\n",
       "      <th>20179</th>\n",
       "      <td>20180</td>\n",
       "      <td>0</td>\n",
       "      <td>vegas on sunday with my bff, her bf, and my bf</td>\n",
       "    </tr>\n",
       "    <tr>\n",
       "      <th>1219</th>\n",
       "      <td>1220</td>\n",
       "      <td>0</td>\n",
       "      <td>happy monday everyone! lets make it a good wee...</td>\n",
       "    </tr>\n",
       "    <tr>\n",
       "      <th>19636</th>\n",
       "      <td>19637</td>\n",
       "      <td>0</td>\n",
       "      <td>mimando a mis compis del trabajo #cumpleaÃ±os ...</td>\n",
       "    </tr>\n",
       "  </tbody>\n",
       "</table>\n",
       "</div>"
      ],
      "text/plain": [
       "          id  label                                              tweet\n",
       "24838  24839      0  #dreamcatcher   bull up: you will dominate you...\n",
       "18674  18675      0  @user when are you releasing the remix album.....\n",
       "20179  20180      0   vegas on sunday with my bff, her bf, and my bf  \n",
       "1219    1220      0  happy monday everyone! lets make it a good wee...\n",
       "19636  19637      0  mimando a mis compis del trabajo #cumpleaÃ±os ..."
      ]
     },
     "execution_count": 6,
     "metadata": {},
     "output_type": "execute_result"
    }
   ],
   "source": [
    "df_train, df_valid = train_test_split(data_train, test_size=0.3, random_state=13)\n",
    "df_train.head()"
   ]
  },
  {
   "cell_type": "code",
   "execution_count": 7,
   "id": "c9afcaed",
   "metadata": {},
   "outputs": [
    {
     "data": {
      "text/html": [
       "<div>\n",
       "<style scoped>\n",
       "    .dataframe tbody tr th:only-of-type {\n",
       "        vertical-align: middle;\n",
       "    }\n",
       "\n",
       "    .dataframe tbody tr th {\n",
       "        vertical-align: top;\n",
       "    }\n",
       "\n",
       "    .dataframe thead th {\n",
       "        text-align: right;\n",
       "    }\n",
       "</style>\n",
       "<table border=\"1\" class=\"dataframe\">\n",
       "  <thead>\n",
       "    <tr style=\"text-align: right;\">\n",
       "      <th></th>\n",
       "      <th>id</th>\n",
       "      <th>label</th>\n",
       "      <th>tweet</th>\n",
       "    </tr>\n",
       "  </thead>\n",
       "  <tbody>\n",
       "    <tr>\n",
       "      <th>9621</th>\n",
       "      <td>9622</td>\n",
       "      <td>0</td>\n",
       "      <td>not long now ... @user thank you for a beautif...</td>\n",
       "    </tr>\n",
       "    <tr>\n",
       "      <th>3388</th>\n",
       "      <td>3389</td>\n",
       "      <td>0</td>\n",
       "      <td>time to follow up the words and send somebody ...</td>\n",
       "    </tr>\n",
       "    <tr>\n",
       "      <th>12766</th>\n",
       "      <td>12767</td>\n",
       "      <td>0</td>\n",
       "      <td>if i posted a picture of a different #fingerpu...</td>\n",
       "    </tr>\n",
       "    <tr>\n",
       "      <th>24031</th>\n",
       "      <td>24032</td>\n",
       "      <td>0</td>\n",
       "      <td>@user reagan america was always at the forefro...</td>\n",
       "    </tr>\n",
       "    <tr>\n",
       "      <th>17357</th>\n",
       "      <td>17358</td>\n",
       "      <td>0</td>\n",
       "      <td>can't believe it's nearly been one week at my ...</td>\n",
       "    </tr>\n",
       "  </tbody>\n",
       "</table>\n",
       "</div>"
      ],
      "text/plain": [
       "          id  label                                              tweet\n",
       "9621    9622      0  not long now ... @user thank you for a beautif...\n",
       "3388    3389      0  time to follow up the words and send somebody ...\n",
       "12766  12767      0  if i posted a picture of a different #fingerpu...\n",
       "24031  24032      0  @user reagan america was always at the forefro...\n",
       "17357  17358      0  can't believe it's nearly been one week at my ..."
      ]
     },
     "execution_count": 7,
     "metadata": {},
     "output_type": "execute_result"
    }
   ],
   "source": [
    "df_valid.head()"
   ]
  },
  {
   "cell_type": "code",
   "execution_count": 8,
   "id": "b470cecb",
   "metadata": {},
   "outputs": [
    {
     "name": "stdout",
     "output_type": "stream",
     "text": [
      "{\"haven't\", 'weren', 'or', 't', 'ourselves', 'be', 're', \"should've\", 'd', 'out', 'when', 'does', 'why', 'few', 'he', 'ma', 'down', \"shan't\", \"you'd\", 've', 'it', 'wasn', \"shouldn't\", 'any', 'themselves', 'each', 'will', \"you're\", 'yourselves', 'an', 'not', 'this', 'is', 'its', 'own', 'again', 'the', \"couldn't\", 'who', 'couldn', \"don't\", 'no', 'than', 'their', 'am', 'yourself', 'him', 'through', \"mightn't\", 'being', 'so', 'me', 'here', 'very', 'same', 'himself', 'they', 'itself', 'was', 'which', 'has', 'hadn', 'hasn', 'isn', 'such', 'been', 'those', 'don', 'them', 'because', 'between', \"aren't\", 'up', 'nor', \"doesn't\", 'then', 'do', 'against', 'during', 'off', 'are', 'under', 'with', 'more', 'as', 'to', \"it's\", 'a', 'from', 'how', 'myself', 'about', 'until', 'most', 'and', \"wouldn't\", \"she's\", 'too', 'm', 'haven', \"you'll\", \"you've\", \"hadn't\", 'theirs', 'ours', \"weren't\", 'both', 'only', 'wouldn', 'above', 's', 'mustn', 'your', 'once', 'by', 'our', 'had', 'whom', 'over', 'were', 'yours', 'have', 'shan', 'should', 'into', 'mightn', 'y', 'shouldn', 'of', \"that'll\", \"needn't\", 'where', \"isn't\", 'll', 'we', \"didn't\", 'while', 'ain', 'after', 'she', 'didn', 'just', \"hasn't\", 'o', 'these', 'can', 'having', 'won', 'but', 'aren', 'now', 'needn', 'you', 'if', 'i', 'that', 'doing', 'his', 'on', 'there', 'some', 'herself', 'all', 'doesn', 'hers', 'before', \"mustn't\", \"wasn't\", 'my', 'her', 'below', \"won't\", 'in', 'other', 'for', 'further', 'did', 'what', 'at'}\n"
     ]
    }
   ],
   "source": [
    "sw = set(stopwords.words('english'))\n",
    "print(sw)"
   ]
  },
  {
   "cell_type": "code",
   "execution_count": 9,
   "id": "d6ff9335",
   "metadata": {},
   "outputs": [
    {
     "name": "stdout",
     "output_type": "stream",
     "text": [
      "{'%', '&', \"'\", '[', '|', '>', '/', '(', ',', '^', '!', '+', '{', '.', ':', '_', '$', ']', '#', '}', '?', '=', '*', '\\\\', '<', '~', '`', '@', ';', ')', '-', '\"'}\n"
     ]
    }
   ],
   "source": [
    "exclude = set(punctuation)\n",
    "print(exclude)"
   ]
  },
  {
   "cell_type": "code",
   "execution_count": 10,
   "id": "d7ee5834",
   "metadata": {},
   "outputs": [],
   "source": [
    "lemmatizer = WordNetLemmatizer()"
   ]
  },
  {
   "cell_type": "code",
   "execution_count": 11,
   "id": "ee2b3fe7",
   "metadata": {},
   "outputs": [],
   "source": [
    "def preprocess_text(txt):\n",
    "    txt = str(txt)\n",
    "    txt = \"\".join(c for c in txt if c not in exclude)\n",
    "    txt = txt.lower()\n",
    "    txt = [lemmatizer.lemmatize(w) for w in txt.split() if w not in sw]\n",
    "    return \" \".join(txt)"
   ]
  },
  {
   "cell_type": "code",
   "execution_count": 12,
   "id": "5c861fc9",
   "metadata": {},
   "outputs": [
    {
     "name": "stderr",
     "output_type": "stream",
     "text": [
      "100%|██████████| 22373/22373 [00:01<00:00, 18926.90it/s]\n",
      "C:\\Users\\PAVEL_~1\\AppData\\Local\\Temp/ipykernel_13704/1444471780.py:4: SettingWithCopyWarning: \n",
      "A value is trying to be set on a copy of a slice from a DataFrame.\n",
      "Try using .loc[row_indexer,col_indexer] = value instead\n",
      "\n",
      "See the caveats in the documentation: https://pandas.pydata.org/pandas-docs/stable/user_guide/indexing.html#returning-a-view-versus-a-copy\n",
      "  df_train['tweet'] = df_train['tweet'].progress_apply(preprocess_text)\n",
      "100%|██████████| 9589/9589 [00:00<00:00, 40595.34it/s]\n",
      "C:\\Users\\PAVEL_~1\\AppData\\Local\\Temp/ipykernel_13704/1444471780.py:5: SettingWithCopyWarning: \n",
      "A value is trying to be set on a copy of a slice from a DataFrame.\n",
      "Try using .loc[row_indexer,col_indexer] = value instead\n",
      "\n",
      "See the caveats in the documentation: https://pandas.pydata.org/pandas-docs/stable/user_guide/indexing.html#returning-a-view-versus-a-copy\n",
      "  df_valid['tweet'] = df_valid['tweet'].progress_apply(preprocess_text)\n",
      "100%|██████████| 17197/17197 [00:00<00:00, 43325.96it/s]\n"
     ]
    }
   ],
   "source": [
    "from tqdm import tqdm \n",
    "tqdm.pandas()\n",
    "\n",
    "df_train['tweet'] = df_train['tweet'].progress_apply(preprocess_text)\n",
    "df_valid['tweet'] = df_valid['tweet'].progress_apply(preprocess_text)\n",
    "data_test['tweet'] = data_test['tweet'].progress_apply(preprocess_text)"
   ]
  },
  {
   "cell_type": "code",
   "execution_count": 13,
   "id": "246c0ef7",
   "metadata": {},
   "outputs": [
    {
     "data": {
      "text/plain": [
       "['dreamcatcher', 'bull', 'dominate', 'bull', 'direct']"
      ]
     },
     "execution_count": 13,
     "metadata": {},
     "output_type": "execute_result"
    }
   ],
   "source": [
    "train_corpus = \" \".join(df_train[\"tweet\"])\n",
    "train_corpus = train_corpus.lower()\n",
    "tokens = word_tokenize(train_corpus)\n",
    "tokens[:5]"
   ]
  },
  {
   "cell_type": "code",
   "execution_count": 14,
   "id": "b67e054e",
   "metadata": {},
   "outputs": [],
   "source": [
    "tokens_filtered = [word for word in tokens if word.isalnum()]"
   ]
  },
  {
   "cell_type": "code",
   "execution_count": 15,
   "id": "33d12a2a",
   "metadata": {},
   "outputs": [
    {
     "data": {
      "text/plain": [
       "FreqDist({'user': 12306, 'day': 1935, 'love': 1855, 'happy': 1154, 'amp': 1142, 'u': 1133, 'life': 869, 'time': 845, 'im': 808, 'like': 771, ...})"
      ]
     },
     "execution_count": 15,
     "metadata": {},
     "output_type": "execute_result"
    }
   ],
   "source": [
    "dist = FreqDist(tokens_filtered)\n",
    "dist"
   ]
  },
  {
   "cell_type": "code",
   "execution_count": 16,
   "id": "596d172f",
   "metadata": {},
   "outputs": [
    {
     "data": {
      "text/plain": [
       "(1999,\n",
       " ['user', 'day', 'love', 'happy', 'amp', 'u', 'life', 'time', 'im', 'like'])"
      ]
     },
     "execution_count": 16,
     "metadata": {},
     "output_type": "execute_result"
    }
   ],
   "source": [
    "tokens_filtered_top = [pair[0] for pair in dist.most_common(max_words-1)]  \n",
    "len(tokens_filtered_top), tokens_filtered_top[:10]"
   ]
  },
  {
   "cell_type": "code",
   "execution_count": 17,
   "id": "d4e194ea",
   "metadata": {},
   "outputs": [],
   "source": [
    "vocabulary = {v: k for k, v in dict(enumerate(tokens_filtered_top)).items()}"
   ]
  },
  {
   "cell_type": "code",
   "execution_count": 18,
   "id": "2911eefd",
   "metadata": {},
   "outputs": [],
   "source": [
    "def text_to_sequence(text, maxlen):\n",
    "    result = []\n",
    "    tokens = word_tokenize(text.lower()) \n",
    "    tokens_filtered = [word for word in tokens if word.isalnum()]\n",
    "    for word in tokens_filtered:\n",
    "        if word in vocabulary:\n",
    "            result.append(vocabulary[word]) \n",
    "\n",
    "    padding = [0] * (maxlen-len(result)) \n",
    "    return result[-maxlen:] + padding"
   ]
  },
  {
   "cell_type": "code",
   "execution_count": 19,
   "id": "f95afddf",
   "metadata": {},
   "outputs": [
    {
     "data": {
      "text/plain": [
       "((22373, 20), (9589, 20), (17197, 20))"
      ]
     },
     "execution_count": 19,
     "metadata": {},
     "output_type": "execute_result"
    }
   ],
   "source": [
    "x_train = np.asarray([text_to_sequence(text, max_len) for text in df_train[\"tweet\"]])\n",
    "x_valid = np.asarray([text_to_sequence(text, max_len) for text in df_valid[\"tweet\"]])\n",
    "x_test = np.asarray([text_to_sequence(text, max_len) for text in data_test[\"tweet\"]])\n",
    "\n",
    "x_train.shape, x_valid.shape, x_test.shape"
   ]
  },
  {
   "cell_type": "code",
   "execution_count": 20,
   "id": "4a666302",
   "metadata": {},
   "outputs": [
    {
     "data": {
      "text/plain": [
       "tensor([ 41, 217,  41, 206, 151,  26,   0,   0,   0,   0,   0,   0,   0,   0,\n",
       "          0,   0,   0,   0,   0,   0], dtype=torch.int32)"
      ]
     },
     "execution_count": 20,
     "metadata": {},
     "output_type": "execute_result"
    }
   ],
   "source": [
    "torch.from_numpy(x_train[0])"
   ]
  },
  {
   "cell_type": "code",
   "execution_count": 21,
   "id": "52737cda",
   "metadata": {},
   "outputs": [],
   "source": [
    "class DataWrapper(Dataset):\n",
    "    def __init__(self, data, target, transform=None):\n",
    "        self.data = torch.from_numpy(data).long() \n",
    "        self.target = torch.from_numpy(target).long() \n",
    "        self.transform = transform\n",
    "        \n",
    "    def __getitem__(self, index):\n",
    "        x = self.data[index]  \n",
    "        y = self.target[index] \n",
    "        \n",
    "        if self.transform:\n",
    "            x = self.transform(x)\n",
    "            \n",
    "        return x, y\n",
    "    \n",
    "    def __len__(self):\n",
    "        return len(self.data)"
   ]
  },
  {
   "cell_type": "code",
   "execution_count": 22,
   "id": "0d426859",
   "metadata": {},
   "outputs": [],
   "source": [
    "train_dataset = DataWrapper(x_train, df_train['label'].values)\n",
    "train_loader = DataLoader(train_dataset, batch_size=batch_size, shuffle=True)\n",
    "\n",
    "valid_dataset = DataWrapper(x_valid, df_valid['label'].values)\n",
    "valid_loader = DataLoader(valid_dataset, batch_size=8, shuffle=True)"
   ]
  },
  {
   "cell_type": "code",
   "execution_count": 23,
   "id": "dc69e871",
   "metadata": {},
   "outputs": [
    {
     "name": "stdout",
     "output_type": "stream",
     "text": [
      "torch.Size([512, 20]) tensor([   0,  434, 1479,  423,  227,   23,  283,  305,    0,    0,    0,    0,\n",
      "           0,    0,    0,    0,    0,    0,    0,    0])\n",
      "torch.Size([512]) tensor(0)\n"
     ]
    }
   ],
   "source": [
    "for x, l in train_loader:\n",
    "    print(x.shape, x[0])\n",
    "    print(l.shape, l[0])\n",
    "    break"
   ]
  },
  {
   "cell_type": "code",
   "execution_count": 24,
   "id": "14a86d4c",
   "metadata": {},
   "outputs": [],
   "source": [
    "class Net(nn.Module):\n",
    "    def __init__(self, vocab_size=2000, embedding_dim=128, out_channel=128, num_classes = 1):\n",
    "        super().__init__()\n",
    "        self.embedding = nn.Embedding(vocab_size, embedding_dim)\n",
    "        self.conv_1 = nn.Conv1d(embedding_dim, out_channel, kernel_size=2)\n",
    "        self.conv_2 = nn.Conv1d(embedding_dim, out_channel, kernel_size=3)\n",
    "        self.pool = nn.MaxPool1d(2)\n",
    "        self.relu = nn.ReLU()\n",
    "        self.linear_1 = nn.Linear(out_channel, out_channel // 2)\n",
    "        self.linear_2 = nn.Linear(out_channel // 2, num_classes)\n",
    "        \n",
    "    def forward(self, x):        \n",
    "        output = self.embedding(x) # B, L, E\n",
    "        #                       B  E  L         \n",
    "        output = output.permute(0, 2, 1)\n",
    "        output = self.conv_1(output)\n",
    "        output = self.relu(output)\n",
    "        output = self.pool(output)\n",
    "\n",
    "        output = self.conv_2(output)\n",
    "        output = self.relu(output)\n",
    "        output = self.pool(output)\n",
    "        output = torch.max(output, axis=2).values\n",
    "        output = self.linear_1(output)\n",
    "        output = self.relu(output)\n",
    "        output = self.linear_2(output)\n",
    "        output = torch.sigmoid(output)\n",
    "        return output"
   ]
  },
  {
   "cell_type": "code",
   "execution_count": 25,
   "id": "aa7c1d69",
   "metadata": {},
   "outputs": [
    {
     "name": "stdout",
     "output_type": "stream",
     "text": [
      "Net(\n",
      "  (embedding): Embedding(2000, 128)\n",
      "  (conv_1): Conv1d(128, 128, kernel_size=(2,), stride=(1,))\n",
      "  (conv_2): Conv1d(128, 128, kernel_size=(3,), stride=(1,))\n",
      "  (pool): MaxPool1d(kernel_size=2, stride=2, padding=0, dilation=1, ceil_mode=False)\n",
      "  (relu): ReLU()\n",
      "  (linear_1): Linear(in_features=128, out_features=64, bias=True)\n",
      "  (linear_2): Linear(in_features=64, out_features=1, bias=True)\n",
      ")\n"
     ]
    }
   ],
   "source": [
    "model = Net(vocab_size=max_words)\n",
    "print(model)"
   ]
  },
  {
   "cell_type": "code",
   "execution_count": 26,
   "id": "665a7b4f",
   "metadata": {},
   "outputs": [],
   "source": [
    "optimizer = torch.optim.Adam(model.parameters(), lr=0.001)\n",
    "criterion = nn.BCELoss()"
   ]
  },
  {
   "cell_type": "code",
   "execution_count": 27,
   "id": "623664df",
   "metadata": {},
   "outputs": [
    {
     "name": "stdout",
     "output_type": "stream",
     "text": [
      "Epoch [1/15]. Step [1/44]. Loss: 0.680. Acc: 0.824. Val loss: 0.585. Val acc: 0.934\n",
      "Epoch [2/15]. Step [1/44]. Loss: 0.238. Acc: 0.926. Val loss: 0.061. Val acc: 0.934\n",
      "Epoch [3/15]. Step [1/44]. Loss: 0.181. Acc: 0.932. Val loss: 0.339. Val acc: 0.934\n",
      "Epoch [4/15]. Step [1/44]. Loss: 0.172. Acc: 0.922. Val loss: 0.023. Val acc: 0.934\n",
      "Epoch [5/15]. Step [1/44]. Loss: 0.122. Acc: 0.957. Val loss: 0.700. Val acc: 0.946\n",
      "Epoch [6/15]. Step [1/44]. Loss: 0.096. Acc: 0.957. Val loss: 0.256. Val acc: 0.950\n",
      "Epoch [7/15]. Step [1/44]. Loss: 0.044. Acc: 0.979. Val loss: 0.021. Val acc: 0.948\n",
      "Epoch [8/15]. Step [1/44]. Loss: 0.036. Acc: 0.988. Val loss: 0.013. Val acc: 0.950\n",
      "Epoch [9/15]. Step [1/44]. Loss: 0.034. Acc: 0.988. Val loss: 0.131. Val acc: 0.948\n",
      "Epoch [10/15]. Step [1/44]. Loss: 0.012. Acc: 0.998. Val loss: 0.038. Val acc: 0.948\n",
      "Epoch [11/15]. Step [1/44]. Loss: 0.018. Acc: 0.996. Val loss: 0.000. Val acc: 0.947\n",
      "Epoch [12/15]. Step [1/44]. Loss: 0.007. Acc: 0.998. Val loss: 0.034. Val acc: 0.946\n",
      "Epoch [13/15]. Step [1/44]. Loss: 0.014. Acc: 0.996. Val loss: 0.009. Val acc: 0.947\n",
      "Epoch [14/15]. Step [1/44]. Loss: 0.006. Acc: 0.998. Val loss: 0.000. Val acc: 0.949\n",
      "Epoch [15/15]. Step [1/44]. Loss: 0.004. Acc: 1.000. Val loss: 0.006. Val acc: 0.937\n",
      "Training is finished!\n"
     ]
    }
   ],
   "source": [
    "model.train()\n",
    "th = 0.5\n",
    "\n",
    "train_loss_history = []\n",
    "valid_loss_history = []\n",
    "\n",
    "for epoch in range(epochs):  \n",
    "    running_items, running_right = 0.0, 0.0\n",
    "    for i, data in enumerate(train_loader, 0):\n",
    "        inputs, labels = data[0], data[1]\n",
    "        \n",
    "        # обучение\n",
    "        optimizer.zero_grad()\n",
    "        outputs = model(inputs)\n",
    "        loss = criterion(outputs, labels.float().view(-1, 1))\n",
    "        loss.backward()\n",
    "        optimizer.step()\n",
    "\n",
    "        # подсчет ошибки на обучении\n",
    "        loss = loss.item()\n",
    "        running_items += len(labels)\n",
    "       \n",
    "        # подсчет метрики на обучении\n",
    "        pred_labels = torch.squeeze((outputs > th).int())\n",
    "        running_right += (labels == pred_labels).sum()\n",
    "        \n",
    "        # выводим статистику о процессе обучения\n",
    "        if i % 150 == 0:    # печатаем каждые 150 batches\n",
    "            model.eval()\n",
    "            \n",
    "            print(f'Epoch [{epoch + 1}/{epochs}]. ' \\\n",
    "                  f'Step [{i + 1}/{len(train_loader)}]. ' \\\n",
    "                  f'Loss: {loss:.3f}. ' \\\n",
    "                  f'Acc: {running_right / running_items:.3f}', end='. ')\n",
    "            running_loss, running_items, running_right = 0.0, 0.0, 0.0\n",
    "            train_loss_history.append(loss)\n",
    "\n",
    "            # выводим статистику на тестовых данных\n",
    "            test_running_right, test_running_total, test_loss = 0.0, 0.0, 0.0\n",
    "            for j, data in enumerate(valid_loader):\n",
    "                test_labels = data[1]\n",
    "                test_outputs = model(data[0])\n",
    "                \n",
    "                # подсчет ошибки на тесте\n",
    "                test_loss = criterion(test_outputs, test_labels.float().view(-1, 1))\n",
    "                # подсчет метрики на тесте\n",
    "                test_running_total += len(data[1])\n",
    "                pred_test_labels = torch.squeeze((test_outputs > th).int())\n",
    "                test_running_right += (test_labels == pred_test_labels).sum()\n",
    "            \n",
    "            valid_loss_history.append(test_loss.item())\n",
    "            print(f'Val loss: {test_loss:.3f}. Val acc: {test_running_right / test_running_total:.3f}')\n",
    "        \n",
    "        model.train()\n",
    "        \n",
    "print('Training is finished!')"
   ]
  },
  {
   "cell_type": "code",
   "execution_count": 28,
   "id": "be5b70f4",
   "metadata": {},
   "outputs": [
    {
     "data": {
      "text/plain": [
       "<matplotlib.legend.Legend at 0x1e658d13460>"
      ]
     },
     "execution_count": 28,
     "metadata": {},
     "output_type": "execute_result"
    },
    {
     "data": {
      "image/png": "[encoded data removed]",
      "text/plain": [
       "<Figure size 432x288 with 1 Axes>"
      ]
     },
     "metadata": {
      "needs_background": "light"
     },
     "output_type": "display_data"
    }
   ],
   "source": [
    "plt.title('Loss history')\n",
    "plt.grid(True)\n",
    "plt.ylabel('Loss')\n",
    "plt.xlabel('Step')\n",
    "plt.plot(train_loss_history, label='train')\n",
    "plt.plot(valid_loss_history, label='valid')\n",
    "plt.legend()"
   ]
  },
  {
   "cell_type": "markdown",
   "id": "e09b76f3",
   "metadata": {},
   "source": [
    "Влияет на метрику  - скорость обучения (снижение до определенного уровня помогает), количество эпох (тут надо смотреть - на графике видно, что 4 эпоха очень сильную ошибку дает, а 12-14 эпохи почти все к минимуму свела) и разбиение на валидационную метрику"
   ]
  }
 ],
 "metadata": {
  "kernelspec": {
   "display_name": "Python 3 (ipykernel)",
   "language": "python",
   "name": "python3"
  },
  "language_info": {
   "codemirror_mode": {
    "name": "ipython",
    "version": 3
   },
   "file_extension": ".py",
   "mimetype": "text/x-python",
   "name": "python",
   "nbconvert_exporter": "python",
   "pygments_lexer": "ipython3",
   "version": "3.9.7"
  }
 },
 "nbformat": 4,
 "nbformat_minor": 5
}
