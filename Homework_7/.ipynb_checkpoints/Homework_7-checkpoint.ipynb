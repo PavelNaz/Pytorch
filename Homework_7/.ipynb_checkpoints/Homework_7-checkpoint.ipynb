{
 "cells": [
  {
   "cell_type": "code",
   "execution_count": 1,
   "id": "72308fc6",
   "metadata": {},
   "outputs": [
    {
     "name": "stdout",
     "output_type": "stream",
     "text": [
      "Requirement already satisfied: stop-words in d:\\anaconda\\lib\\site-packages (2018.7.23)\n",
      "Requirement already satisfied: pymorphy2 in d:\\anaconda\\lib\\site-packages (0.9.1)\n",
      "Requirement already satisfied: docopt>=0.6 in d:\\anaconda\\lib\\site-packages (from pymorphy2) (0.6.2)\n",
      "Requirement already satisfied: pymorphy2-dicts-ru<3.0,>=2.4 in d:\\anaconda\\lib\\site-packages (from pymorphy2) (2.4.417127.4579844)\n",
      "Requirement already satisfied: dawg-python>=0.7.1 in d:\\anaconda\\lib\\site-packages (from pymorphy2) (0.7.2)\n"
     ]
    }
   ],
   "source": [
    "!pip install stop-words pymorphy2"
   ]
  },
  {
   "cell_type": "code",
   "execution_count": 2,
   "id": "cfd8dddf",
   "metadata": {},
   "outputs": [
    {
     "name": "stderr",
     "output_type": "stream",
     "text": [
      "[nltk_data] Downloading package wordnet to\n",
      "[nltk_data]     C:\\Users\\Pavel_Nazarenko\\AppData\\Roaming\\nltk_data...\n",
      "[nltk_data]   Package wordnet is already up-to-date!\n",
      "[nltk_data] Downloading package punkt to\n",
      "[nltk_data]     C:\\Users\\Pavel_Nazarenko\\AppData\\Roaming\\nltk_data...\n",
      "[nltk_data]   Package punkt is already up-to-date!\n",
      "[nltk_data] Downloading package stopwords to\n",
      "[nltk_data]     C:\\Users\\Pavel_Nazarenko\\AppData\\Roaming\\nltk_data...\n",
      "[nltk_data]   Package stopwords is already up-to-date!\n",
      "[nltk_data] Downloading package wordnet to\n",
      "[nltk_data]     C:\\Users\\Pavel_Nazarenko\\AppData\\Roaming\\nltk_data...\n",
      "[nltk_data]   Package wordnet is already up-to-date!\n",
      "[nltk_data] Downloading package punkt to\n",
      "[nltk_data]     C:\\Users\\Pavel_Nazarenko\\AppData\\Roaming\\nltk_data...\n",
      "[nltk_data]   Package punkt is already up-to-date!\n",
      "[nltk_data] Downloading package stopwords to\n",
      "[nltk_data]     C:\\Users\\Pavel_Nazarenko\\AppData\\Roaming\\nltk_data...\n",
      "[nltk_data]   Package stopwords is already up-to-date!\n"
     ]
    }
   ],
   "source": [
    "from string import punctuation\n",
    "from stop_words import get_stop_words\n",
    "from pymorphy2 import MorphAnalyzer\n",
    "import re\n",
    "\n",
    "import numpy as np\n",
    "import pandas as pd\n",
    "import matplotlib.pyplot as plt\n",
    "\n",
    "from sklearn.model_selection import train_test_split\n",
    "\n",
    "import torch\n",
    "import torch.nn as nn\n",
    "import torch.nn.functional as F\n",
    "from torch.utils.data import DataLoader, Dataset\n",
    "\n",
    "import nltk\n",
    "nltk.download('wordnet')\n",
    "nltk.download(\"punkt\")\n",
    "nltk.download('stopwords')\n",
    "from nltk.stem import WordNetLemmatizer \n",
    "from nltk.corpus import stopwords\n",
    "from nltk.tokenize import word_tokenize\n",
    "from nltk.probability import FreqDist\n",
    "\n",
    "from string import punctuation\n",
    "\n",
    "from pymorphy2 import MorphAnalyzer\n",
    "import re\n",
    "import nltk\n",
    "nltk.download('wordnet')\n",
    "nltk.download(\"punkt\")\n",
    "nltk.download('stopwords')\n",
    "from nltk.stem import WordNetLemmatizer \n",
    "from nltk.corpus import stopwords\n",
    "from nltk.tokenize import word_tokenize\n",
    "from nltk.probability import FreqDist\n",
    "\n",
    "import numpy as np\n",
    "import pandas as pd\n",
    "import matplotlib.pyplot as plt\n",
    "\n",
    "from sklearn.model_selection import train_test_split\n",
    "\n",
    "import torch\n",
    "import torch.nn as nn\n",
    "import torch.nn.functional as F\n",
    "from torch.utils.data import DataLoader, Dataset\n",
    "\n",
    "import torchmetrics"
   ]
  },
  {
   "cell_type": "code",
   "execution_count": 3,
   "id": "583703fd",
   "metadata": {},
   "outputs": [],
   "source": [
    "max_words = 2000\n",
    "max_len = 20\n",
    "num_classes = 1\n",
    "\n",
    "epochs = 15\n",
    "batch_size = 512\n",
    "print_batch_n = 100"
   ]
  },
  {
   "cell_type": "code",
   "execution_count": 4,
   "id": "38c85139",
   "metadata": {},
   "outputs": [
    {
     "data": {
      "text/html": [
       "<div>\n",
       "<style scoped>\n",
       "    .dataframe tbody tr th:only-of-type {\n",
       "        vertical-align: middle;\n",
       "    }\n",
       "\n",
       "    .dataframe tbody tr th {\n",
       "        vertical-align: top;\n",
       "    }\n",
       "\n",
       "    .dataframe thead th {\n",
       "        text-align: right;\n",
       "    }\n",
       "</style>\n",
       "<table border=\"1\" class=\"dataframe\">\n",
       "  <thead>\n",
       "    <tr style=\"text-align: right;\">\n",
       "      <th></th>\n",
       "      <th>id</th>\n",
       "      <th>label</th>\n",
       "      <th>tweet</th>\n",
       "    </tr>\n",
       "  </thead>\n",
       "  <tbody>\n",
       "    <tr>\n",
       "      <th>0</th>\n",
       "      <td>1</td>\n",
       "      <td>0</td>\n",
       "      <td>@user when a father is dysfunctional and is s...</td>\n",
       "    </tr>\n",
       "    <tr>\n",
       "      <th>1</th>\n",
       "      <td>2</td>\n",
       "      <td>0</td>\n",
       "      <td>@user @user thanks for #lyft credit i can't us...</td>\n",
       "    </tr>\n",
       "    <tr>\n",
       "      <th>2</th>\n",
       "      <td>3</td>\n",
       "      <td>0</td>\n",
       "      <td>bihday your majesty</td>\n",
       "    </tr>\n",
       "    <tr>\n",
       "      <th>3</th>\n",
       "      <td>4</td>\n",
       "      <td>0</td>\n",
       "      <td>#model   i love u take with u all the time in ...</td>\n",
       "    </tr>\n",
       "    <tr>\n",
       "      <th>4</th>\n",
       "      <td>5</td>\n",
       "      <td>0</td>\n",
       "      <td>factsguide: society now    #motivation</td>\n",
       "    </tr>\n",
       "  </tbody>\n",
       "</table>\n",
       "</div>"
      ],
      "text/plain": [
       "   id  label                                              tweet\n",
       "0   1      0   @user when a father is dysfunctional and is s...\n",
       "1   2      0  @user @user thanks for #lyft credit i can't us...\n",
       "2   3      0                                bihday your majesty\n",
       "3   4      0  #model   i love u take with u all the time in ...\n",
       "4   5      0             factsguide: society now    #motivation"
      ]
     },
     "execution_count": 4,
     "metadata": {},
     "output_type": "execute_result"
    }
   ],
   "source": [
    "dataset_train  = 'train.csv'\n",
    "dataset_test  = 'test.csv'\n",
    "data_train = pd.read_csv(dataset_train, encoding='utf-8')\n",
    "data_test = pd.read_csv(dataset_test, encoding='utf-8')\n",
    "data_train.head()"
   ]
  },
  {
   "cell_type": "code",
   "execution_count": 5,
   "id": "836ce16b",
   "metadata": {},
   "outputs": [
    {
     "data": {
      "text/html": [
       "<div>\n",
       "<style scoped>\n",
       "    .dataframe tbody tr th:only-of-type {\n",
       "        vertical-align: middle;\n",
       "    }\n",
       "\n",
       "    .dataframe tbody tr th {\n",
       "        vertical-align: top;\n",
       "    }\n",
       "\n",
       "    .dataframe thead th {\n",
       "        text-align: right;\n",
       "    }\n",
       "</style>\n",
       "<table border=\"1\" class=\"dataframe\">\n",
       "  <thead>\n",
       "    <tr style=\"text-align: right;\">\n",
       "      <th></th>\n",
       "      <th>id</th>\n",
       "      <th>tweet</th>\n",
       "    </tr>\n",
       "  </thead>\n",
       "  <tbody>\n",
       "    <tr>\n",
       "      <th>0</th>\n",
       "      <td>31963</td>\n",
       "      <td>#studiolife #aislife #requires #passion #dedic...</td>\n",
       "    </tr>\n",
       "    <tr>\n",
       "      <th>1</th>\n",
       "      <td>31964</td>\n",
       "      <td>@user #white #supremacists want everyone to s...</td>\n",
       "    </tr>\n",
       "    <tr>\n",
       "      <th>2</th>\n",
       "      <td>31965</td>\n",
       "      <td>safe ways to heal your #acne!!    #altwaystohe...</td>\n",
       "    </tr>\n",
       "    <tr>\n",
       "      <th>3</th>\n",
       "      <td>31966</td>\n",
       "      <td>is the hp and the cursed child book up for res...</td>\n",
       "    </tr>\n",
       "    <tr>\n",
       "      <th>4</th>\n",
       "      <td>31967</td>\n",
       "      <td>3rd #bihday to my amazing, hilarious #nephew...</td>\n",
       "    </tr>\n",
       "  </tbody>\n",
       "</table>\n",
       "</div>"
      ],
      "text/plain": [
       "      id                                              tweet\n",
       "0  31963  #studiolife #aislife #requires #passion #dedic...\n",
       "1  31964   @user #white #supremacists want everyone to s...\n",
       "2  31965  safe ways to heal your #acne!!    #altwaystohe...\n",
       "3  31966  is the hp and the cursed child book up for res...\n",
       "4  31967    3rd #bihday to my amazing, hilarious #nephew..."
      ]
     },
     "execution_count": 5,
     "metadata": {},
     "output_type": "execute_result"
    }
   ],
   "source": [
    "data_test.head()"
   ]
  },
  {
   "cell_type": "code",
   "execution_count": 6,
   "id": "73f569f3",
   "metadata": {},
   "outputs": [
    {
     "data": {
      "text/html": [
       "<div>\n",
       "<style scoped>\n",
       "    .dataframe tbody tr th:only-of-type {\n",
       "        vertical-align: middle;\n",
       "    }\n",
       "\n",
       "    .dataframe tbody tr th {\n",
       "        vertical-align: top;\n",
       "    }\n",
       "\n",
       "    .dataframe thead th {\n",
       "        text-align: right;\n",
       "    }\n",
       "</style>\n",
       "<table border=\"1\" class=\"dataframe\">\n",
       "  <thead>\n",
       "    <tr style=\"text-align: right;\">\n",
       "      <th></th>\n",
       "      <th>id</th>\n",
       "      <th>label</th>\n",
       "      <th>tweet</th>\n",
       "    </tr>\n",
       "  </thead>\n",
       "  <tbody>\n",
       "    <tr>\n",
       "      <th>24838</th>\n",
       "      <td>24839</td>\n",
       "      <td>0</td>\n",
       "      <td>#dreamcatcher   bull up: you will dominate you...</td>\n",
       "    </tr>\n",
       "    <tr>\n",
       "      <th>18674</th>\n",
       "      <td>18675</td>\n",
       "      <td>0</td>\n",
       "      <td>@user when are you releasing the remix album.....</td>\n",
       "    </tr>\n",
       "    <tr>\n",
       "      <th>20179</th>\n",
       "      <td>20180</td>\n",
       "      <td>0</td>\n",
       "      <td>vegas on sunday with my bff, her bf, and my bf</td>\n",
       "    </tr>\n",
       "    <tr>\n",
       "      <th>1219</th>\n",
       "      <td>1220</td>\n",
       "      <td>0</td>\n",
       "      <td>happy monday everyone! lets make it a good wee...</td>\n",
       "    </tr>\n",
       "    <tr>\n",
       "      <th>19636</th>\n",
       "      <td>19637</td>\n",
       "      <td>0</td>\n",
       "      <td>mimando a mis compis del trabajo #cumpleaÃ±os ...</td>\n",
       "    </tr>\n",
       "  </tbody>\n",
       "</table>\n",
       "</div>"
      ],
      "text/plain": [
       "          id  label                                              tweet\n",
       "24838  24839      0  #dreamcatcher   bull up: you will dominate you...\n",
       "18674  18675      0  @user when are you releasing the remix album.....\n",
       "20179  20180      0   vegas on sunday with my bff, her bf, and my bf  \n",
       "1219    1220      0  happy monday everyone! lets make it a good wee...\n",
       "19636  19637      0  mimando a mis compis del trabajo #cumpleaÃ±os ..."
      ]
     },
     "execution_count": 6,
     "metadata": {},
     "output_type": "execute_result"
    }
   ],
   "source": [
    "df_train, df_valid = train_test_split(data_train, test_size=0.3, random_state=13)\n",
    "df_train.head()"
   ]
  },
  {
   "cell_type": "code",
   "execution_count": 7,
   "id": "4a8f5c3c",
   "metadata": {},
   "outputs": [
    {
     "data": {
      "text/html": [
       "<div>\n",
       "<style scoped>\n",
       "    .dataframe tbody tr th:only-of-type {\n",
       "        vertical-align: middle;\n",
       "    }\n",
       "\n",
       "    .dataframe tbody tr th {\n",
       "        vertical-align: top;\n",
       "    }\n",
       "\n",
       "    .dataframe thead th {\n",
       "        text-align: right;\n",
       "    }\n",
       "</style>\n",
       "<table border=\"1\" class=\"dataframe\">\n",
       "  <thead>\n",
       "    <tr style=\"text-align: right;\">\n",
       "      <th></th>\n",
       "      <th>id</th>\n",
       "      <th>label</th>\n",
       "      <th>tweet</th>\n",
       "    </tr>\n",
       "  </thead>\n",
       "  <tbody>\n",
       "    <tr>\n",
       "      <th>9621</th>\n",
       "      <td>9622</td>\n",
       "      <td>0</td>\n",
       "      <td>not long now ... @user thank you for a beautif...</td>\n",
       "    </tr>\n",
       "    <tr>\n",
       "      <th>3388</th>\n",
       "      <td>3389</td>\n",
       "      <td>0</td>\n",
       "      <td>time to follow up the words and send somebody ...</td>\n",
       "    </tr>\n",
       "    <tr>\n",
       "      <th>12766</th>\n",
       "      <td>12767</td>\n",
       "      <td>0</td>\n",
       "      <td>if i posted a picture of a different #fingerpu...</td>\n",
       "    </tr>\n",
       "    <tr>\n",
       "      <th>24031</th>\n",
       "      <td>24032</td>\n",
       "      <td>0</td>\n",
       "      <td>@user reagan america was always at the forefro...</td>\n",
       "    </tr>\n",
       "    <tr>\n",
       "      <th>17357</th>\n",
       "      <td>17358</td>\n",
       "      <td>0</td>\n",
       "      <td>can't believe it's nearly been one week at my ...</td>\n",
       "    </tr>\n",
       "  </tbody>\n",
       "</table>\n",
       "</div>"
      ],
      "text/plain": [
       "          id  label                                              tweet\n",
       "9621    9622      0  not long now ... @user thank you for a beautif...\n",
       "3388    3389      0  time to follow up the words and send somebody ...\n",
       "12766  12767      0  if i posted a picture of a different #fingerpu...\n",
       "24031  24032      0  @user reagan america was always at the forefro...\n",
       "17357  17358      0  can't believe it's nearly been one week at my ..."
      ]
     },
     "execution_count": 7,
     "metadata": {},
     "output_type": "execute_result"
    }
   ],
   "source": [
    "df_valid.head()"
   ]
  },
  {
   "cell_type": "code",
   "execution_count": 8,
   "id": "304f6ab6",
   "metadata": {},
   "outputs": [
    {
     "name": "stdout",
     "output_type": "stream",
     "text": [
      "{'what', 'out', 'my', \"doesn't\", 'me', 'with', \"wasn't\", 'haven', 'myself', 'needn', 'than', 'isn', 'because', 'here', \"shouldn't\", \"isn't\", 'can', 'same', 'how', 'shouldn', 'off', \"hasn't\", 'of', 'are', 'so', 'over', \"you're\", 'his', 'before', 'then', \"mightn't\", 'or', 'we', 'herself', 'the', 'it', 'once', 'while', 'her', 'couldn', 'when', 'should', 'your', 'as', 'hasn', 'but', 'didn', 'himself', 'from', 'all', 'up', 's', 'don', 'both', \"shan't\", 'above', 'most', 'hadn', 'weren', 'only', 'yourself', \"won't\", 'is', \"don't\", 'and', 'its', 'at', 'no', \"should've\", 'after', 'shan', 'about', 'yourselves', 'wouldn', 'to', \"wouldn't\", 'yours', 'own', 'mightn', 'this', 'during', 'why', 'few', \"aren't\", 'against', 'by', 'have', 'hers', 'whom', 'does', 'some', 'him', 'these', 'such', \"you'd\", 'on', 'mustn', 'she', 'will', 'a', 're', 'that', 'do', 'further', 'be', \"it's\", 'won', \"she's\", 'ourselves', 'if', 'too', 'now', 'o', 'each', 'just', 'into', 't', \"that'll\", 'where', 'they', 'theirs', 'm', 'themselves', 'you', 'doing', 'until', 'aren', \"you've\", 'down', 'under', 'itself', 'who', 'an', 'below', 'again', 've', 'he', 'those', 'y', \"needn't\", 'not', 'for', 'nor', \"didn't\", \"haven't\", 'i', 'ours', 'in', 'had', 'being', 'through', 'very', 'wasn', 'ma', 'there', \"couldn't\", 'their', \"you'll\", 'ain', 'which', 'am', \"weren't\", 'was', 'having', 'our', 'has', 'were', 'more', 'd', 'll', 'other', \"hadn't\", 'been', 'did', 'doesn', 'any', \"mustn't\", 'between', 'them'}\n"
     ]
    }
   ],
   "source": [
    "sw = set(stopwords.words('english'))\n",
    "print(sw)"
   ]
  },
  {
   "cell_type": "code",
   "execution_count": 9,
   "id": "31769f02",
   "metadata": {},
   "outputs": [
    {
     "name": "stdout",
     "output_type": "stream",
     "text": [
      "{'{', ';', '\\\\', '?', '\"', '&', '@', '.', '>', '!', '/', '~', '*', ']', ',', '(', '%', '[', '`', ':', '-', '=', '#', '+', '<', '|', \"'\", ')', '$', '^', '_', '}'}\n"
     ]
    }
   ],
   "source": [
    "exclude = set(punctuation)\n",
    "print(exclude)"
   ]
  },
  {
   "cell_type": "code",
   "execution_count": 10,
   "id": "af030327",
   "metadata": {},
   "outputs": [],
   "source": [
    "lemmatizer = WordNetLemmatizer()"
   ]
  },
  {
   "cell_type": "code",
   "execution_count": 11,
   "id": "9592688c",
   "metadata": {},
   "outputs": [],
   "source": [
    "def preprocess_text(txt):\n",
    "    txt = str(txt)\n",
    "    txt = \"\".join(c for c in txt if c not in exclude)\n",
    "    txt = txt.lower()\n",
    "    txt = [lemmatizer.lemmatize(w) for w in txt.split() if w not in sw]\n",
    "    return \" \".join(txt)"
   ]
  },
  {
   "cell_type": "code",
   "execution_count": 12,
   "id": "a927c991",
   "metadata": {},
   "outputs": [
    {
     "name": "stderr",
     "output_type": "stream",
     "text": [
      "100%|██████████| 22373/22373 [00:01<00:00, 19563.29it/s]\n",
      "C:\\Users\\PAVEL_~1\\AppData\\Local\\Temp/ipykernel_5920/1444471780.py:4: SettingWithCopyWarning: \n",
      "A value is trying to be set on a copy of a slice from a DataFrame.\n",
      "Try using .loc[row_indexer,col_indexer] = value instead\n",
      "\n",
      "See the caveats in the documentation: https://pandas.pydata.org/pandas-docs/stable/user_guide/indexing.html#returning-a-view-versus-a-copy\n",
      "  df_train['tweet'] = df_train['tweet'].progress_apply(preprocess_text)\n",
      "100%|██████████| 9589/9589 [00:00<00:00, 45813.67it/s]\n",
      "C:\\Users\\PAVEL_~1\\AppData\\Local\\Temp/ipykernel_5920/1444471780.py:5: SettingWithCopyWarning: \n",
      "A value is trying to be set on a copy of a slice from a DataFrame.\n",
      "Try using .loc[row_indexer,col_indexer] = value instead\n",
      "\n",
      "See the caveats in the documentation: https://pandas.pydata.org/pandas-docs/stable/user_guide/indexing.html#returning-a-view-versus-a-copy\n",
      "  df_valid['tweet'] = df_valid['tweet'].progress_apply(preprocess_text)\n",
      "100%|██████████| 17197/17197 [00:00<00:00, 46633.93it/s]\n"
     ]
    }
   ],
   "source": [
    "from tqdm import tqdm \n",
    "tqdm.pandas()\n",
    "\n",
    "df_train['tweet'] = df_train['tweet'].progress_apply(preprocess_text)\n",
    "df_valid['tweet'] = df_valid['tweet'].progress_apply(preprocess_text)\n",
    "data_test['tweet'] = data_test['tweet'].progress_apply(preprocess_text)"
   ]
  },
  {
   "cell_type": "code",
   "execution_count": 13,
   "id": "62a16e63",
   "metadata": {},
   "outputs": [
    {
     "data": {
      "text/plain": [
       "['dreamcatcher', 'bull', 'dominate', 'bull', 'direct']"
      ]
     },
     "execution_count": 13,
     "metadata": {},
     "output_type": "execute_result"
    }
   ],
   "source": [
    "train_corpus = \" \".join(df_train[\"tweet\"])\n",
    "train_corpus = train_corpus.lower()\n",
    "tokens = word_tokenize(train_corpus)\n",
    "tokens[:5]"
   ]
  },
  {
   "cell_type": "code",
   "execution_count": 14,
   "id": "e296404d",
   "metadata": {},
   "outputs": [],
   "source": [
    "tokens_filtered = [word for word in tokens if word.isalnum()]"
   ]
  },
  {
   "cell_type": "code",
   "execution_count": 15,
   "id": "f4b6dd9f",
   "metadata": {},
   "outputs": [
    {
     "data": {
      "text/plain": [
       "FreqDist({'user': 12306, 'day': 1935, 'love': 1855, 'happy': 1154, 'amp': 1142, 'u': 1133, 'life': 869, 'time': 845, 'im': 808, 'like': 771, ...})"
      ]
     },
     "execution_count": 15,
     "metadata": {},
     "output_type": "execute_result"
    }
   ],
   "source": [
    "dist = FreqDist(tokens_filtered)\n",
    "dist"
   ]
  },
  {
   "cell_type": "code",
   "execution_count": 16,
   "id": "fe8cd86b",
   "metadata": {},
   "outputs": [
    {
     "data": {
      "text/plain": [
       "(1999,\n",
       " ['user', 'day', 'love', 'happy', 'amp', 'u', 'life', 'time', 'im', 'like'])"
      ]
     },
     "execution_count": 16,
     "metadata": {},
     "output_type": "execute_result"
    }
   ],
   "source": [
    "tokens_filtered_top = [pair[0] for pair in dist.most_common(max_words-1)]  \n",
    "len(tokens_filtered_top), tokens_filtered_top[:10]"
   ]
  },
  {
   "cell_type": "code",
   "execution_count": 17,
   "id": "40d0d957",
   "metadata": {},
   "outputs": [],
   "source": [
    "vocabulary = {v: k for k, v in dict(enumerate(tokens_filtered_top)).items()}"
   ]
  },
  {
   "cell_type": "code",
   "execution_count": 18,
   "id": "7c911e57",
   "metadata": {},
   "outputs": [],
   "source": [
    "def text_to_sequence(text, maxlen):\n",
    "    result = []\n",
    "    tokens = word_tokenize(text.lower()) \n",
    "    tokens_filtered = [word for word in tokens if word.isalnum()]\n",
    "    for word in tokens_filtered:\n",
    "        if word in vocabulary:\n",
    "            result.append(vocabulary[word]) \n",
    "\n",
    "    padding = [0] * (maxlen-len(result)) \n",
    "    return result[-maxlen:] + padding"
   ]
  },
  {
   "cell_type": "code",
   "execution_count": 19,
   "id": "57ccc70b",
   "metadata": {},
   "outputs": [
    {
     "data": {
      "text/plain": [
       "((22373, 20), (9589, 20), (17197, 20))"
      ]
     },
     "execution_count": 19,
     "metadata": {},
     "output_type": "execute_result"
    }
   ],
   "source": [
    "x_train = np.asarray([text_to_sequence(text, max_len) for text in df_train[\"tweet\"]])\n",
    "x_valid = np.asarray([text_to_sequence(text, max_len) for text in df_valid[\"tweet\"]])\n",
    "x_test = np.asarray([text_to_sequence(text, max_len) for text in data_test[\"tweet\"]])\n",
    "\n",
    "x_train.shape, x_valid.shape, x_test.shape"
   ]
  },
  {
   "cell_type": "code",
   "execution_count": 20,
   "id": "b3efad60",
   "metadata": {},
   "outputs": [
    {
     "data": {
      "text/plain": [
       "tensor([ 41, 217,  41, 206, 151,  26,   0,   0,   0,   0,   0,   0,   0,   0,\n",
       "          0,   0,   0,   0,   0,   0], dtype=torch.int32)"
      ]
     },
     "execution_count": 20,
     "metadata": {},
     "output_type": "execute_result"
    }
   ],
   "source": [
    "torch.from_numpy(x_train[0])"
   ]
  },
  {
   "cell_type": "code",
   "execution_count": 21,
   "id": "de78aeeb",
   "metadata": {},
   "outputs": [],
   "source": [
    "class DataWrapper(Dataset):\n",
    "    def __init__(self, data, target, transform=None):\n",
    "        self.data = torch.from_numpy(data).long() \n",
    "        self.target = torch.from_numpy(target).long() \n",
    "        self.transform = transform\n",
    "        \n",
    "    def __getitem__(self, index):\n",
    "        x = self.data[index]  \n",
    "        y = self.target[index] \n",
    "        \n",
    "        if self.transform:\n",
    "            x = self.transform(x)\n",
    "            \n",
    "        return x, y\n",
    "    \n",
    "    def __len__(self):\n",
    "        return len(self.data)"
   ]
  },
  {
   "cell_type": "code",
   "execution_count": 22,
   "id": "3b2f7b48",
   "metadata": {},
   "outputs": [],
   "source": [
    "train_dataset = DataWrapper(x_train, df_train['label'].values)\n",
    "train_loader = DataLoader(train_dataset, batch_size=batch_size, shuffle=True)\n",
    "\n",
    "valid_dataset = DataWrapper(x_valid, df_valid['label'].values)\n",
    "valid_loader = DataLoader(valid_dataset, batch_size=8, shuffle=True)"
   ]
  },
  {
   "cell_type": "code",
   "execution_count": 23,
   "id": "1092d051",
   "metadata": {},
   "outputs": [
    {
     "name": "stdout",
     "output_type": "stream",
     "text": [
      "torch.Size([512, 20]) tensor([234,  17,   0,   0,   0,   0,   0,   0,   0,   0,   0,   0,   0,   0,\n",
      "          0,   0,   0,   0,   0,   0])\n",
      "torch.Size([512]) tensor(0)\n"
     ]
    }
   ],
   "source": [
    "for x, l in train_loader:\n",
    "    print(x.shape, x[0])\n",
    "    print(l.shape, l[0])\n",
    "    break"
   ]
  },
  {
   "cell_type": "markdown",
   "id": "ccf607fe",
   "metadata": {},
   "source": [
    "### GRU"
   ]
  },
  {
   "cell_type": "code",
   "execution_count": 24,
   "id": "52aae149",
   "metadata": {},
   "outputs": [],
   "source": [
    "class GRUFixedLen(nn.Module):\n",
    "    def __init__(self, vocab_size, embedding_dim=128, hidden_dim=128, use_last=True):\n",
    "        super().__init__()\n",
    "        self.use_last = use_last\n",
    "        self.embeddings = nn.Embedding(vocab_size, embedding_dim, padding_idx=0)\n",
    "        self.gru = nn.GRU(embedding_dim, hidden_dim, num_layers=2, batch_first=True)\n",
    "        self.linear = nn.Linear(hidden_dim, 1)\n",
    "        self.dropout = nn.Dropout(0.2)\n",
    "        \n",
    "    def forward(self, x):\n",
    "        x = self.embeddings(x)\n",
    "        x = self.dropout(x)\n",
    "\n",
    "        gru_out, ht = self.gru(x) \n",
    "\n",
    "        if self.use_last:\n",
    "            last_tensor = gru_out[:,-1,:] \n",
    "        else:\n",
    "            # use mean\n",
    "            last_tensor = torch.mean(gru_out[:,:], dim=1) \n",
    "    \n",
    "        out = self.linear(last_tensor)\n",
    "        \n",
    "        return torch.sigmoid(out)"
   ]
  },
  {
   "cell_type": "code",
   "execution_count": 25,
   "id": "a99cb233",
   "metadata": {},
   "outputs": [
    {
     "name": "stdout",
     "output_type": "stream",
     "text": [
      "GRUFixedLen(\n",
      "  (embeddings): Embedding(2000, 128, padding_idx=0)\n",
      "  (gru): GRU(128, 128, num_layers=2, batch_first=True)\n",
      "  (linear): Linear(in_features=128, out_features=1, bias=True)\n",
      "  (dropout): Dropout(p=0.2, inplace=False)\n",
      ")\n",
      "Parameters: 454273\n"
     ]
    }
   ],
   "source": [
    "model_gru = GRUFixedLen(max_words, 128, 128, use_last=False)\n",
    "print(model_gru)\n",
    "print(\"Parameters:\", sum([param.nelement() for param in model_gru.parameters()]))"
   ]
  },
  {
   "cell_type": "code",
   "execution_count": 26,
   "id": "8fad3d23",
   "metadata": {},
   "outputs": [],
   "source": [
    "optimizer = torch.optim.Adam(model_gru.parameters(), lr=0.001)\n",
    "criterion = nn.BCELoss()"
   ]
  },
  {
   "cell_type": "code",
   "execution_count": 27,
   "id": "dcf663f0",
   "metadata": {},
   "outputs": [
    {
     "name": "stdout",
     "output_type": "stream",
     "text": [
      "Epoch [1/15]. Step [44/44]. Loss: 0.200. Acc: 0.911. Test loss: 0.035. Test acc: 0.940\n",
      "Epoch [2/15]. Step [44/44]. Loss: 0.178. Acc: 0.939. Test loss: 0.460. Test acc: 0.948\n",
      "Epoch [3/15]. Step [44/44]. Loss: 0.142. Acc: 0.949. Test loss: 0.046. Test acc: 0.953\n",
      "Epoch [4/15]. Step [44/44]. Loss: 0.142. Acc: 0.954. Test loss: 0.022. Test acc: 0.953\n",
      "Epoch [5/15]. Step [44/44]. Loss: 0.131. Acc: 0.957. Test loss: 0.004. Test acc: 0.954\n",
      "Epoch [6/15]. Step [44/44]. Loss: 0.106. Acc: 0.961. Test loss: 0.029. Test acc: 0.955\n",
      "Epoch [7/15]. Step [44/44]. Loss: 0.107. Acc: 0.964. Test loss: 0.019. Test acc: 0.951\n",
      "Epoch [8/15]. Step [44/44]. Loss: 0.089. Acc: 0.967. Test loss: 0.008. Test acc: 0.952\n",
      "Epoch [9/15]. Step [44/44]. Loss: 0.063. Acc: 0.969. Test loss: 0.030. Test acc: 0.952\n",
      "Epoch [10/15]. Step [44/44]. Loss: 0.089. Acc: 0.971. Test loss: 0.472. Test acc: 0.953\n",
      "Epoch [11/15]. Step [44/44]. Loss: 0.057. Acc: 0.972. Test loss: 0.196. Test acc: 0.953\n",
      "Epoch [12/15]. Step [44/44]. Loss: 0.105. Acc: 0.976. Test loss: 0.192. Test acc: 0.954\n",
      "Epoch [13/15]. Step [44/44]. Loss: 0.069. Acc: 0.978. Test loss: 0.001. Test acc: 0.952\n",
      "Epoch [14/15]. Step [44/44]. Loss: 0.065. Acc: 0.980. Test loss: 0.007. Test acc: 0.945\n",
      "Epoch [15/15]. Step [44/44]. Loss: 0.059. Acc: 0.982. Test loss: 0.000. Test acc: 0.954\n",
      "Training is finished!\n",
      "Wall time: 2min 30s\n"
     ]
    }
   ],
   "source": [
    "%%time\n",
    "\n",
    "#обучение модели\n",
    "model_gru.train()\n",
    "\n",
    "train_loss_history = []\n",
    "valid_loss_history = []\n",
    "\n",
    "train_acc_history_gru = []\n",
    "valid_acc_history_gru = []\n",
    "\n",
    "train_acc = torchmetrics.Accuracy()\n",
    "test_acc = torchmetrics.Accuracy()\n",
    "\n",
    "for epoch in range(epochs):  \n",
    "    model_gru.train()\n",
    "    for i, data in enumerate(train_loader, 0):\n",
    "        inputs, labels = data[0], data[1]\n",
    "\n",
    "        # обнуляем градиент\n",
    "        optimizer.zero_grad()\n",
    "        outputs = model_gru(inputs)\n",
    "        loss = criterion(outputs, labels.float().view(-1, 1))\n",
    "        loss.backward()\n",
    "        optimizer.step()\n",
    "\n",
    "        # подсчет ошибки на обучении\n",
    "        loss = loss.item()\n",
    "        \n",
    "        # подсчет метрики на обучении\n",
    "        train_acc(outputs.squeeze(), labels)\n",
    "        \n",
    "    # выводим статистику о процессе обучения\n",
    "    model_gru.eval()\n",
    "    \n",
    "    print(f'Epoch [{epoch + 1}/{epochs}]. ' \\\n",
    "            f'Step [{i + 1}/{len(train_loader)}]. ' \\\n",
    "            f'Loss: {loss:.3f}. ' \\\n",
    "            f'Acc: {train_acc.compute().item():.3f}', end='. ')\n",
    "\n",
    "    train_loss_history.append(loss)\n",
    "    train_acc_history_gru.append(train_acc.compute().item())\n",
    "    train_acc.reset()\n",
    "    \n",
    "\n",
    "    # выводим статистику на тестовых данных\n",
    "\n",
    "    for j, data in enumerate(valid_loader):\n",
    "        test_labels = data[1]\n",
    "        test_outputs = model_gru(data[0])\n",
    "        \n",
    "        # подсчет ошибки на тесте\n",
    "        test_loss = criterion(test_outputs, test_labels.float().view(-1, 1))\n",
    "        \n",
    "        # подсчет метрики на тесте\n",
    "        test_acc(test_outputs.squeeze(), test_labels)\n",
    "    \n",
    "    print(f'Test loss: {test_loss:.3f}. Test acc: {test_acc.compute().item():.3f}')\n",
    "    valid_loss_history.append(test_loss.item())\n",
    "    valid_acc_history_gru.append(test_acc.compute().item())\n",
    "    test_acc.reset()\n",
    "    \n",
    "print('Training is finished!')"
   ]
  },
  {
   "cell_type": "code",
   "execution_count": 28,
   "id": "9160fc2c",
   "metadata": {},
   "outputs": [
    {
     "data": {
      "text/plain": [
       "<matplotlib.legend.Legend at 0x16d3bcceee0>"
      ]
     },
     "execution_count": 28,
     "metadata": {},
     "output_type": "execute_result"
    },
    {
     "data": {
      "image/png": "[encoded data removed]",
      "text/plain": [
       "<Figure size 432x288 with 1 Axes>"
      ]
     },
     "metadata": {
      "needs_background": "light"
     },
     "output_type": "display_data"
    }
   ],
   "source": [
    "plt.title('Loss history')\n",
    "plt.grid(True)\n",
    "plt.ylabel('Loss')\n",
    "plt.xlabel('Epoch')\n",
    "plt.plot(train_loss_history, label='train')\n",
    "plt.plot(valid_loss_history, label='valid')\n",
    "plt.legend()"
   ]
  },
  {
   "cell_type": "code",
   "execution_count": 29,
   "id": "b552ac4d",
   "metadata": {},
   "outputs": [
    {
     "data": {
      "text/plain": [
       "<matplotlib.legend.Legend at 0x16d3d54aeb0>"
      ]
     },
     "execution_count": 29,
     "metadata": {},
     "output_type": "execute_result"
    },
    {
     "data": {
      "image/png": "[encoded data removed]",
      "text/plain": [
       "<Figure size 432x288 with 1 Axes>"
      ]
     },
     "metadata": {
      "needs_background": "light"
     },
     "output_type": "display_data"
    }
   ],
   "source": [
    "plt.title('Accuracy history')\n",
    "plt.grid(True)\n",
    "plt.ylabel('Accuracy')\n",
    "plt.xlabel('Epoch')\n",
    "plt.plot(train_acc_history_gru, label='train')\n",
    "plt.plot(valid_acc_history_gru, label='valid')\n",
    "plt.legend()"
   ]
  },
  {
   "cell_type": "markdown",
   "id": "1ea6b547",
   "metadata": {},
   "source": [
    "### LSTM"
   ]
  },
  {
   "cell_type": "code",
   "execution_count": 30,
   "id": "624484cd",
   "metadata": {},
   "outputs": [],
   "source": [
    "class LSTMFixedLen(nn.Module):\n",
    "    def __init__(self, vocab_size, embedding_dim=128, hidden_dim=128, use_last=True):\n",
    "        super().__init__()\n",
    "        self.use_last = use_last\n",
    "        self.embeddings = nn.Embedding(vocab_size, embedding_dim, padding_idx=0)\n",
    "        self.lstm = nn.LSTM(embedding_dim, hidden_dim, num_layers=2, batch_first=True)\n",
    "        self.linear = nn.Linear(hidden_dim, 1)\n",
    "        self.dropout = nn.Dropout(0.2)\n",
    "        \n",
    "    def forward(self, x):\n",
    "        x = self.embeddings(x)\n",
    "        x = self.dropout(x)\n",
    "\n",
    "        lstm_out, ht = self.lstm(x) \n",
    "\n",
    "        if self.use_last:\n",
    "            last_tensor = lstm_out[:,-1,:] \n",
    "        else: \n",
    "            # use mean\n",
    "            last_tensor = torch.mean(lstm_out[:,:], dim=1)\n",
    "    \n",
    "        out = self.linear(last_tensor)\n",
    "        \n",
    "        return torch.sigmoid(out)"
   ]
  },
  {
   "cell_type": "code",
   "execution_count": 31,
   "id": "76fd8b0a",
   "metadata": {},
   "outputs": [
    {
     "name": "stdout",
     "output_type": "stream",
     "text": [
      "LSTMFixedLen(\n",
      "  (embeddings): Embedding(2000, 128, padding_idx=0)\n",
      "  (lstm): LSTM(128, 128, num_layers=2, batch_first=True)\n",
      "  (linear): Linear(in_features=128, out_features=1, bias=True)\n",
      "  (dropout): Dropout(p=0.2, inplace=False)\n",
      ")\n",
      "Parameters: 520321\n"
     ]
    }
   ],
   "source": [
    "model_lstm = LSTMFixedLen(max_words, 128, 128, use_last=False)\n",
    "print(model_lstm)\n",
    "print(\"Parameters:\", sum([param.nelement() for param in model_lstm.parameters()]))"
   ]
  },
  {
   "cell_type": "code",
   "execution_count": 32,
   "id": "33c99f26",
   "metadata": {},
   "outputs": [],
   "source": [
    "optimizer = torch.optim.Adam(model_lstm.parameters(), lr=0.001)\n",
    "criterion = nn.BCELoss()"
   ]
  },
  {
   "cell_type": "code",
   "execution_count": 33,
   "id": "762e2352",
   "metadata": {},
   "outputs": [
    {
     "name": "stdout",
     "output_type": "stream",
     "text": [
      "Epoch [1/15]. Step [44/44]. Loss: 0.211. Acc: 0.908. Test loss: 0.075. Test acc: 0.937\n",
      "Epoch [2/15]. Step [44/44]. Loss: 0.236. Acc: 0.936. Test loss: 0.089. Test acc: 0.945\n",
      "Epoch [3/15]. Step [44/44]. Loss: 0.160. Acc: 0.947. Test loss: 0.359. Test acc: 0.950\n",
      "Epoch [4/15]. Step [44/44]. Loss: 0.125. Acc: 0.953. Test loss: 0.020. Test acc: 0.954\n",
      "Epoch [5/15]. Step [44/44]. Loss: 0.133. Acc: 0.958. Test loss: 0.017. Test acc: 0.954\n",
      "Epoch [6/15]. Step [44/44]. Loss: 0.127. Acc: 0.962. Test loss: 0.023. Test acc: 0.953\n",
      "Epoch [7/15]. Step [44/44]. Loss: 0.065. Acc: 0.965. Test loss: 0.471. Test acc: 0.955\n",
      "Epoch [8/15]. Step [44/44]. Loss: 0.084. Acc: 0.967. Test loss: 0.049. Test acc: 0.955\n",
      "Epoch [9/15]. Step [44/44]. Loss: 0.114. Acc: 0.972. Test loss: 0.007. Test acc: 0.950\n",
      "Epoch [10/15]. Step [44/44]. Loss: 0.067. Acc: 0.974. Test loss: 0.520. Test acc: 0.953\n",
      "Epoch [11/15]. Step [44/44]. Loss: 0.091. Acc: 0.975. Test loss: 0.688. Test acc: 0.955\n",
      "Epoch [12/15]. Step [44/44]. Loss: 0.073. Acc: 0.978. Test loss: 0.001. Test acc: 0.952\n",
      "Epoch [13/15]. Step [44/44]. Loss: 0.055. Acc: 0.980. Test loss: 0.175. Test acc: 0.957\n",
      "Epoch [14/15]. Step [44/44]. Loss: 0.068. Acc: 0.983. Test loss: 0.007. Test acc: 0.953\n",
      "Epoch [15/15]. Step [44/44]. Loss: 0.054. Acc: 0.984. Test loss: 0.032. Test acc: 0.953\n",
      "Training is finished!\n",
      "Wall time: 2min 54s\n"
     ]
    }
   ],
   "source": [
    "%%time\n",
    "\n",
    "#обучение модели\n",
    "model_lstm.train()\n",
    "\n",
    "train_loss_history = []\n",
    "valid_loss_history = []\n",
    "\n",
    "train_acc_history_lstm = []\n",
    "valid_acc_history_lstm = []\n",
    "\n",
    "train_acc = torchmetrics.Accuracy()\n",
    "test_acc = torchmetrics.Accuracy()\n",
    "\n",
    "for epoch in range(epochs):  \n",
    "    model_lstm.train()\n",
    "    for i, data in enumerate(train_loader, 0):\n",
    "        inputs, labels = data[0], data[1]\n",
    "\n",
    "        # обнуляем градиент\n",
    "        optimizer.zero_grad()\n",
    "        outputs = model_lstm(inputs)\n",
    "        loss = criterion(outputs, labels.float().view(-1, 1))\n",
    "        loss.backward()\n",
    "        optimizer.step()\n",
    "\n",
    "        # подсчет ошибки на обучении\n",
    "        loss = loss.item()\n",
    "        \n",
    "        # подсчет метрики на обучении\n",
    "        train_acc(outputs.squeeze(), labels)\n",
    "        \n",
    "    # выводим статистику о процессе обучения\n",
    "    model_lstm.eval()\n",
    "    \n",
    "    print(f'Epoch [{epoch + 1}/{epochs}]. ' \\\n",
    "            f'Step [{i + 1}/{len(train_loader)}]. ' \\\n",
    "            f'Loss: {loss:.3f}. ' \\\n",
    "            f'Acc: {train_acc.compute().item():.3f}', end='. ')\n",
    "\n",
    "    train_loss_history.append(loss)\n",
    "    train_acc_history_lstm.append(train_acc.compute().item())\n",
    "    train_acc.reset()\n",
    "\n",
    "    \n",
    "    # выводим статистику на тестовых данных\n",
    "    for j, data in enumerate(valid_loader):\n",
    "        test_labels = data[1]\n",
    "        test_outputs = model_lstm(data[0])\n",
    "        \n",
    "        # подсчет ошибки на тесте\n",
    "        test_loss = criterion(test_outputs, test_labels.float().view(-1, 1))\n",
    "        \n",
    "        # подсчет метрики на тесте\n",
    "        test_acc(test_outputs.squeeze(), test_labels)\n",
    "\n",
    "    print(f'Test loss: {test_loss:.3f}. Test acc: {test_acc.compute().item():.3f}')\n",
    "    valid_loss_history.append(test_loss.item())\n",
    "    valid_acc_history_lstm.append(test_acc.compute().item())\n",
    "    test_acc.reset()\n",
    "    \n",
    "print('Training is finished!')"
   ]
  },
  {
   "cell_type": "code",
   "execution_count": 34,
   "id": "77609237",
   "metadata": {},
   "outputs": [
    {
     "data": {
      "text/plain": [
       "<matplotlib.legend.Legend at 0x16d3d27d2b0>"
      ]
     },
     "execution_count": 34,
     "metadata": {},
     "output_type": "execute_result"
    },
    {
     "data": {
      "image/png": "[encoded data removed]",
      "text/plain": [
       "<Figure size 432x288 with 1 Axes>"
      ]
     },
     "metadata": {
      "needs_background": "light"
     },
     "output_type": "display_data"
    }
   ],
   "source": [
    "plt.title('Loss history')\n",
    "plt.grid(True)\n",
    "plt.ylabel('Loss')\n",
    "plt.xlabel('Epoch')\n",
    "plt.plot(train_loss_history, label='train')\n",
    "plt.plot(valid_loss_history, label='valid')\n",
    "plt.legend()"
   ]
  },
  {
   "cell_type": "code",
   "execution_count": 35,
   "id": "8de99e96",
   "metadata": {},
   "outputs": [
    {
     "data": {
      "text/plain": [
       "<matplotlib.legend.Legend at 0x16d3d2b3280>"
      ]
     },
     "execution_count": 35,
     "metadata": {},
     "output_type": "execute_result"
    },
    {
     "data": {
      "image/png": "[encoded data removed]",
      "text/plain": [
       "<Figure size 432x288 with 1 Axes>"
      ]
     },
     "metadata": {
      "needs_background": "light"
     },
     "output_type": "display_data"
    }
   ],
   "source": [
    "plt.title('Accuracy history')\n",
    "plt.grid(True)\n",
    "plt.ylabel('Accuracy')\n",
    "plt.xlabel('Epoch')\n",
    "plt.plot(train_acc_history_lstm, label='train')\n",
    "plt.plot(valid_acc_history_lstm, label='valid')\n",
    "plt.legend()"
   ]
  },
  {
   "cell_type": "code",
   "execution_count": 36,
   "id": "137677fe",
   "metadata": {},
   "outputs": [
    {
     "data": {
      "text/html": [
       "<div>\n",
       "<style scoped>\n",
       "    .dataframe tbody tr th:only-of-type {\n",
       "        vertical-align: middle;\n",
       "    }\n",
       "\n",
       "    .dataframe tbody tr th {\n",
       "        vertical-align: top;\n",
       "    }\n",
       "\n",
       "    .dataframe thead th {\n",
       "        text-align: right;\n",
       "    }\n",
       "</style>\n",
       "<table border=\"1\" class=\"dataframe\">\n",
       "  <thead>\n",
       "    <tr style=\"text-align: right;\">\n",
       "      <th></th>\n",
       "      <th>Acc_train</th>\n",
       "      <th>Acc_test</th>\n",
       "    </tr>\n",
       "  </thead>\n",
       "  <tbody>\n",
       "    <tr>\n",
       "      <th>GRU</th>\n",
       "      <td>0.982077</td>\n",
       "      <td>0.953801</td>\n",
       "    </tr>\n",
       "    <tr>\n",
       "      <th>LSTM</th>\n",
       "      <td>0.983596</td>\n",
       "      <td>0.952654</td>\n",
       "    </tr>\n",
       "  </tbody>\n",
       "</table>\n",
       "</div>"
      ],
      "text/plain": [
       "      Acc_train  Acc_test\n",
       "GRU    0.982077  0.953801\n",
       "LSTM   0.983596  0.952654"
      ]
     },
     "execution_count": 36,
     "metadata": {},
     "output_type": "execute_result"
    }
   ],
   "source": [
    "metrics_result = pd.DataFrame([{'Acc_train': train_acc_history_lstm[-1], \n",
    "                                'Acc_test': valid_acc_history_lstm[-1]},\n",
    "                               {'Acc_train':  train_acc_history_gru[-1],\n",
    "                                'Acc_test': valid_acc_history_gru[-1]}],\n",
    "                              index =['LSTM', 'GRU'], \n",
    "                              columns =['Acc_train', 'Acc_test'])\n",
    "\n",
    "metrics_result.sort_values(by='Acc_test', ascending=False)"
   ]
  },
  {
   "cell_type": "markdown",
   "id": "cf8f4f2d",
   "metadata": {},
   "source": [
    "LSTM обучается дольше, при этом в моем случае - метрика на тест у GRU оказалась выше. Изменение количества эпох при разных испытаних давал странный ответ (при этом не было монотонного улучшения). Увеличение hidden_dim, embedding_dim, max_words могут способствовать увеличению метрики на валидации, однако в некоторых случаях не всегда так было у меня"
   ]
  }
 ],
 "metadata": {
  "kernelspec": {
   "display_name": "Python 3 (ipykernel)",
   "language": "python",
   "name": "python3"
  },
  "language_info": {
   "codemirror_mode": {
    "name": "ipython",
    "version": 3
   },
   "file_extension": ".py",
   "mimetype": "text/x-python",
   "name": "python",
   "nbconvert_exporter": "python",
   "pygments_lexer": "ipython3",
   "version": "3.9.7"
  }
 },
 "nbformat": 4,
 "nbformat_minor": 5
}
