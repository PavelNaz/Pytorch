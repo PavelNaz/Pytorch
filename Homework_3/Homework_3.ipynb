{
 "cells": [
  {
   "cell_type": "code",
   "execution_count": 1,
   "id": "05157f76",
   "metadata": {},
   "outputs": [
    {
     "name": "stdout",
     "output_type": "stream",
     "text": [
      "Requirement already satisfied: torchmetrics in d:\\anaconda\\lib\\site-packages (0.9.3)\n",
      "Requirement already satisfied: torch>=1.3.1 in d:\\anaconda\\lib\\site-packages (from torchmetrics) (1.12.0)\n",
      "Requirement already satisfied: numpy>=1.17.2 in d:\\anaconda\\lib\\site-packages (from torchmetrics) (1.20.3)\n",
      "Requirement already satisfied: packaging in d:\\anaconda\\lib\\site-packages (from torchmetrics) (21.0)\n",
      "Requirement already satisfied: typing_extensions in d:\\anaconda\\lib\\site-packages (from torch>=1.3.1->torchmetrics) (3.10.0.2)\n",
      "Requirement already satisfied: pyparsing>=2.0.2 in d:\\anaconda\\lib\\site-packages (from packaging->torchmetrics) (3.0.4)\n"
     ]
    }
   ],
   "source": [
    "!pip install torchmetrics"
   ]
  },
  {
   "cell_type": "code",
   "execution_count": 2,
   "id": "f6be9afe",
   "metadata": {},
   "outputs": [],
   "source": [
    "import math\n",
    "import torch\n",
    "import pandas as pd\n",
    "import numpy as np\n",
    "import matplotlib.pyplot as plt\n",
    "\n",
    "from sklearn.datasets import fetch_california_housing\n",
    "from sklearn.model_selection import train_test_split\n",
    "from sklearn.preprocessing import MinMaxScaler\n",
    "\n",
    "import torch.nn.functional as F\n",
    "import torch.nn as nn\n",
    "import torchmetrics"
   ]
  },
  {
   "cell_type": "code",
   "execution_count": 3,
   "id": "ad303e36",
   "metadata": {},
   "outputs": [
    {
     "data": {
      "text/html": [
       "<div>\n",
       "<style scoped>\n",
       "    .dataframe tbody tr th:only-of-type {\n",
       "        vertical-align: middle;\n",
       "    }\n",
       "\n",
       "    .dataframe tbody tr th {\n",
       "        vertical-align: top;\n",
       "    }\n",
       "\n",
       "    .dataframe thead th {\n",
       "        text-align: right;\n",
       "    }\n",
       "</style>\n",
       "<table border=\"1\" class=\"dataframe\">\n",
       "  <thead>\n",
       "    <tr style=\"text-align: right;\">\n",
       "      <th></th>\n",
       "      <th>MedInc</th>\n",
       "      <th>HouseAge</th>\n",
       "      <th>AveRooms</th>\n",
       "      <th>AveBedrms</th>\n",
       "      <th>Population</th>\n",
       "      <th>AveOccup</th>\n",
       "      <th>Latitude</th>\n",
       "      <th>Longitude</th>\n",
       "      <th>MedHouseVal</th>\n",
       "    </tr>\n",
       "  </thead>\n",
       "  <tbody>\n",
       "    <tr>\n",
       "      <th>0</th>\n",
       "      <td>8.3252</td>\n",
       "      <td>41.0</td>\n",
       "      <td>6.984127</td>\n",
       "      <td>1.023810</td>\n",
       "      <td>322.0</td>\n",
       "      <td>2.555556</td>\n",
       "      <td>37.88</td>\n",
       "      <td>-122.23</td>\n",
       "      <td>4.526</td>\n",
       "    </tr>\n",
       "    <tr>\n",
       "      <th>1</th>\n",
       "      <td>8.3014</td>\n",
       "      <td>21.0</td>\n",
       "      <td>6.238137</td>\n",
       "      <td>0.971880</td>\n",
       "      <td>2401.0</td>\n",
       "      <td>2.109842</td>\n",
       "      <td>37.86</td>\n",
       "      <td>-122.22</td>\n",
       "      <td>3.585</td>\n",
       "    </tr>\n",
       "    <tr>\n",
       "      <th>2</th>\n",
       "      <td>7.2574</td>\n",
       "      <td>52.0</td>\n",
       "      <td>8.288136</td>\n",
       "      <td>1.073446</td>\n",
       "      <td>496.0</td>\n",
       "      <td>2.802260</td>\n",
       "      <td>37.85</td>\n",
       "      <td>-122.24</td>\n",
       "      <td>3.521</td>\n",
       "    </tr>\n",
       "    <tr>\n",
       "      <th>3</th>\n",
       "      <td>5.6431</td>\n",
       "      <td>52.0</td>\n",
       "      <td>5.817352</td>\n",
       "      <td>1.073059</td>\n",
       "      <td>558.0</td>\n",
       "      <td>2.547945</td>\n",
       "      <td>37.85</td>\n",
       "      <td>-122.25</td>\n",
       "      <td>3.413</td>\n",
       "    </tr>\n",
       "    <tr>\n",
       "      <th>4</th>\n",
       "      <td>3.8462</td>\n",
       "      <td>52.0</td>\n",
       "      <td>6.281853</td>\n",
       "      <td>1.081081</td>\n",
       "      <td>565.0</td>\n",
       "      <td>2.181467</td>\n",
       "      <td>37.85</td>\n",
       "      <td>-122.25</td>\n",
       "      <td>3.422</td>\n",
       "    </tr>\n",
       "    <tr>\n",
       "      <th>...</th>\n",
       "      <td>...</td>\n",
       "      <td>...</td>\n",
       "      <td>...</td>\n",
       "      <td>...</td>\n",
       "      <td>...</td>\n",
       "      <td>...</td>\n",
       "      <td>...</td>\n",
       "      <td>...</td>\n",
       "      <td>...</td>\n",
       "    </tr>\n",
       "    <tr>\n",
       "      <th>20635</th>\n",
       "      <td>1.5603</td>\n",
       "      <td>25.0</td>\n",
       "      <td>5.045455</td>\n",
       "      <td>1.133333</td>\n",
       "      <td>845.0</td>\n",
       "      <td>2.560606</td>\n",
       "      <td>39.48</td>\n",
       "      <td>-121.09</td>\n",
       "      <td>0.781</td>\n",
       "    </tr>\n",
       "    <tr>\n",
       "      <th>20636</th>\n",
       "      <td>2.5568</td>\n",
       "      <td>18.0</td>\n",
       "      <td>6.114035</td>\n",
       "      <td>1.315789</td>\n",
       "      <td>356.0</td>\n",
       "      <td>3.122807</td>\n",
       "      <td>39.49</td>\n",
       "      <td>-121.21</td>\n",
       "      <td>0.771</td>\n",
       "    </tr>\n",
       "    <tr>\n",
       "      <th>20637</th>\n",
       "      <td>1.7000</td>\n",
       "      <td>17.0</td>\n",
       "      <td>5.205543</td>\n",
       "      <td>1.120092</td>\n",
       "      <td>1007.0</td>\n",
       "      <td>2.325635</td>\n",
       "      <td>39.43</td>\n",
       "      <td>-121.22</td>\n",
       "      <td>0.923</td>\n",
       "    </tr>\n",
       "    <tr>\n",
       "      <th>20638</th>\n",
       "      <td>1.8672</td>\n",
       "      <td>18.0</td>\n",
       "      <td>5.329513</td>\n",
       "      <td>1.171920</td>\n",
       "      <td>741.0</td>\n",
       "      <td>2.123209</td>\n",
       "      <td>39.43</td>\n",
       "      <td>-121.32</td>\n",
       "      <td>0.847</td>\n",
       "    </tr>\n",
       "    <tr>\n",
       "      <th>20639</th>\n",
       "      <td>2.3886</td>\n",
       "      <td>16.0</td>\n",
       "      <td>5.254717</td>\n",
       "      <td>1.162264</td>\n",
       "      <td>1387.0</td>\n",
       "      <td>2.616981</td>\n",
       "      <td>39.37</td>\n",
       "      <td>-121.24</td>\n",
       "      <td>0.894</td>\n",
       "    </tr>\n",
       "  </tbody>\n",
       "</table>\n",
       "<p>20640 rows × 9 columns</p>\n",
       "</div>"
      ],
      "text/plain": [
       "       MedInc  HouseAge  AveRooms  AveBedrms  Population  AveOccup  Latitude  \\\n",
       "0      8.3252      41.0  6.984127   1.023810       322.0  2.555556     37.88   \n",
       "1      8.3014      21.0  6.238137   0.971880      2401.0  2.109842     37.86   \n",
       "2      7.2574      52.0  8.288136   1.073446       496.0  2.802260     37.85   \n",
       "3      5.6431      52.0  5.817352   1.073059       558.0  2.547945     37.85   \n",
       "4      3.8462      52.0  6.281853   1.081081       565.0  2.181467     37.85   \n",
       "...       ...       ...       ...        ...         ...       ...       ...   \n",
       "20635  1.5603      25.0  5.045455   1.133333       845.0  2.560606     39.48   \n",
       "20636  2.5568      18.0  6.114035   1.315789       356.0  3.122807     39.49   \n",
       "20637  1.7000      17.0  5.205543   1.120092      1007.0  2.325635     39.43   \n",
       "20638  1.8672      18.0  5.329513   1.171920       741.0  2.123209     39.43   \n",
       "20639  2.3886      16.0  5.254717   1.162264      1387.0  2.616981     39.37   \n",
       "\n",
       "       Longitude  MedHouseVal  \n",
       "0        -122.23        4.526  \n",
       "1        -122.22        3.585  \n",
       "2        -122.24        3.521  \n",
       "3        -122.25        3.413  \n",
       "4        -122.25        3.422  \n",
       "...          ...          ...  \n",
       "20635    -121.09        0.781  \n",
       "20636    -121.21        0.771  \n",
       "20637    -121.22        0.923  \n",
       "20638    -121.32        0.847  \n",
       "20639    -121.24        0.894  \n",
       "\n",
       "[20640 rows x 9 columns]"
      ]
     },
     "execution_count": 3,
     "metadata": {},
     "output_type": "execute_result"
    }
   ],
   "source": [
    "houses = fetch_california_housing(data_home=None, download_if_missing=True, as_frame=True)\n",
    "df = houses['frame']\n",
    "df"
   ]
  },
  {
   "cell_type": "code",
   "execution_count": 4,
   "id": "7e8d344e",
   "metadata": {},
   "outputs": [],
   "source": [
    "features_list = houses['feature_names']\n",
    "target = houses['target_names'][0]\n",
    "X = df[features_list]\n",
    "y = df[target]"
   ]
  },
  {
   "cell_type": "code",
   "execution_count": 5,
   "id": "fe568441",
   "metadata": {},
   "outputs": [],
   "source": [
    "X_train, X_test, y_train, y_test = train_test_split(X, y, test_size=0.25, random_state=13)"
   ]
  },
  {
   "cell_type": "code",
   "execution_count": 6,
   "id": "a318c7da",
   "metadata": {},
   "outputs": [],
   "source": [
    "#стандартизация данных\n",
    "scaler = MinMaxScaler()\n",
    "X_train = scaler.fit_transform(X_train)\n",
    "X_test = scaler.transform(X_test)\n",
    "X_train = torch.FloatTensor(X_train).float()\n",
    "y_train = torch.FloatTensor(y_train.values).float()\n",
    "X_test = torch.FloatTensor(X_test).float()\n",
    "y_test = torch.FloatTensor(y_test.values).float()"
   ]
  },
  {
   "cell_type": "code",
   "execution_count": 7,
   "id": "d343e39b",
   "metadata": {},
   "outputs": [],
   "source": [
    "class MyOwnDataset(torch.utils.data.Dataset):\n",
    "   \n",
    "    def __init__(self, X_data, y_data):\n",
    "        self.X = X_data\n",
    "        self.y = y_data\n",
    "\n",
    "    def __len__(self):\n",
    "        return len(self.X)\n",
    "\n",
    "    def __getitem__(self, idx):\n",
    "        X = self.X[idx] \n",
    "        y = self.y[idx] \n",
    "       \n",
    "        return X, y"
   ]
  },
  {
   "cell_type": "code",
   "execution_count": 8,
   "id": "1c5d9975",
   "metadata": {},
   "outputs": [],
   "source": [
    "train_dataset = MyOwnDataset(X_train, y_train)\n",
    "\n",
    "train_loader = torch.utils.data.DataLoader(train_dataset,\n",
    "                          batch_size=128,\n",
    "                          shuffle=True,\n",
    "                          drop_last=True,\n",
    "                          num_workers=0)"
   ]
  },
  {
   "cell_type": "code",
   "execution_count": 9,
   "id": "da5a05f4",
   "metadata": {},
   "outputs": [],
   "source": [
    "test_dataset = MyOwnDataset(X_test, y_test)\n",
    "\n",
    "test_loader = torch.utils.data.DataLoader(test_dataset, \n",
    "                                          batch_size=8,\n",
    "                                          shuffle=False,\n",
    "                                          drop_last=True,\n",
    "                                          num_workers=0)"
   ]
  },
  {
   "cell_type": "code",
   "execution_count": 10,
   "id": "5ffcf0ad",
   "metadata": {},
   "outputs": [],
   "source": [
    "class Perceptron(nn.Module):\n",
    "    def __init__(self, input_dim, output_dim, activation=\"relu\"):\n",
    "        super(Perceptron, self).__init__()\n",
    "        self.fc = nn.Linear(input_dim, output_dim)\n",
    "        self.activation = activation\n",
    "        \n",
    "    def forward(self, x):\n",
    "        x = self.fc(x)\n",
    "        if self.activation == \"relu\":\n",
    "            return F.relu(x)\n",
    "        if self.activation == \"sigmoid\":\n",
    "            return F.sigmoid(x)\n",
    "        raise RuntimeError\n",
    "        \n",
    "class FeedForward(nn.Module):\n",
    "    def __init__(self, input_dim, hidden_dim):\n",
    "        super(FeedForward, self).__init__()\n",
    "        self.bn1 = nn.BatchNorm1d(input_dim)\n",
    "        self.fc1 = Perceptron(input_dim, 2*hidden_dim)\n",
    "        self.dp1 = nn.Dropout(0.25)\n",
    "        self.bn2 = nn.BatchNorm1d(2*hidden_dim)\n",
    "        self.fc2 = Perceptron(2*hidden_dim, hidden_dim)\n",
    "        self.dp2 = nn.Dropout(0.2)\n",
    "        self.bn3 = nn.BatchNorm1d(hidden_dim)\n",
    "        self.fc3 = Perceptron(hidden_dim, 1)\n",
    "        \n",
    "    def forward(self, x):\n",
    "        x = self.bn1(x)\n",
    "        x = self.fc1(x)\n",
    "        x = self.dp1(x)\n",
    "        x = self.bn2(x)\n",
    "        x = self.fc2(x)\n",
    "        x = self.dp2(x)\n",
    "        x = self.bn3(x)\n",
    "        x = self.fc3(x)\n",
    "        return x"
   ]
  },
  {
   "cell_type": "code",
   "execution_count": 11,
   "id": "8eabe346",
   "metadata": {},
   "outputs": [],
   "source": [
    "def model_comparing(model, optimizer):    \n",
    "    \n",
    "    train_r2 = torchmetrics.R2Score()\n",
    "    test_r2 = torchmetrics.R2Score()\n",
    "\n",
    "    r2_train_list = []\n",
    "    r2_test_list = []\n",
    "    \n",
    "    for epoch in range(30):\n",
    "        \n",
    "        model.train()\n",
    "        \n",
    "        for i, data in enumerate(train_loader):\n",
    "            inputs, target = data[0], data[1]\n",
    "            optimizer.zero_grad()\n",
    "            outputs = model(inputs)\n",
    "            batch_r2 = train_r2(outputs.squeeze(), target)\n",
    "            # Рассчитываем лосс-функцию (функцию потерь)\n",
    "            loss = criterion(outputs.squeeze(), target)\n",
    "            loss.backward()\n",
    "            optimizer.step()\n",
    "        \n",
    "        model.eval()\n",
    "        \n",
    "        for i, data in enumerate(test_loader):\n",
    "            inputs, target = data[0], data[1]\n",
    "            outputs = model(inputs)\n",
    "            test_r2(outputs.squeeze(), target)\n",
    "\n",
    "        # total r2 over all training batches\n",
    "        total_train_r2 = train_r2.compute()\n",
    "        # total r2 over all training batches\n",
    "        total_test_r2 = test_r2.compute()\n",
    "        \n",
    "        r2_train_list.append(total_train_r2)\n",
    "        r2_test_list.append(total_test_r2)\n",
    "        print(f'Epoch {epoch+1}: r2_train = {total_train_r2}, r2_test = {total_test_r2}')\n",
    "\n",
    "        #reset for next epoch\n",
    "        train_r2.reset()\n",
    "        test_r2.reset()\n",
    "    \n",
    "    return r2_train_list, r2_test_list"
   ]
  },
  {
   "cell_type": "code",
   "execution_count": 12,
   "id": "d688342a",
   "metadata": {},
   "outputs": [],
   "source": [
    "def metrics_view(r2_train_list, r2_test_list, optim):\n",
    "    \n",
    "    epoch = np.arange(1,31,1)\n",
    "    y_train = r2_train_list\n",
    "    y_test = r2_test_list\n",
    "    plt.plot(epoch, y_train, label='R2_train')\n",
    "    plt.plot(epoch, y_test, label='R2_test')\n",
    "    plt.title(f\"{optim}\")   \n",
    "    plt.ylabel('R2_score')   \n",
    "    plt.xlabel('epochs')   \n",
    "    plt.legend()\n",
    "    plt.show()"
   ]
  },
  {
   "cell_type": "code",
   "execution_count": 13,
   "id": "1db89e3f",
   "metadata": {},
   "outputs": [
    {
     "name": "stdout",
     "output_type": "stream",
     "text": [
      "FeedForward(\n",
      "  (bn1): BatchNorm1d(8, eps=1e-05, momentum=0.1, affine=True, track_running_stats=True)\n",
      "  (fc1): Perceptron(\n",
      "    (fc): Linear(in_features=8, out_features=800, bias=True)\n",
      "  )\n",
      "  (dp1): Dropout(p=0.25, inplace=False)\n",
      "  (bn2): BatchNorm1d(800, eps=1e-05, momentum=0.1, affine=True, track_running_stats=True)\n",
      "  (fc2): Perceptron(\n",
      "    (fc): Linear(in_features=800, out_features=400, bias=True)\n",
      "  )\n",
      "  (dp2): Dropout(p=0.2, inplace=False)\n",
      "  (bn3): BatchNorm1d(400, eps=1e-05, momentum=0.1, affine=True, track_running_stats=True)\n",
      "  (fc3): Perceptron(\n",
      "    (fc): Linear(in_features=400, out_features=1, bias=True)\n",
      "  )\n",
      ")\n",
      "Epoch 1: r2_train = -1.394446849822998, r2_test = -0.6592868566513062\n",
      "Epoch 2: r2_train = -0.4932147264480591, r2_test = -0.15706229209899902\n",
      "Epoch 3: r2_train = -0.22847771644592285, r2_test = 0.08350551128387451\n",
      "Epoch 4: r2_train = -0.10389983654022217, r2_test = 0.11997431516647339\n",
      "Epoch 5: r2_train = -0.02409219741821289, r2_test = 0.1596089005470276\n",
      "Epoch 6: r2_train = 0.03918814659118652, r2_test = 0.24744606018066406\n",
      "Epoch 7: r2_train = 0.08539187908172607, r2_test = 0.2665691375732422\n",
      "Epoch 8: r2_train = 0.10113304853439331, r2_test = 0.29304754734039307\n",
      "Epoch 9: r2_train = 0.13251668214797974, r2_test = 0.2762429118156433\n",
      "Epoch 10: r2_train = 0.1689225435256958, r2_test = 0.28819382190704346\n",
      "Epoch 11: r2_train = 0.19100886583328247, r2_test = 0.3078751564025879\n",
      "Epoch 12: r2_train = 0.20534121990203857, r2_test = 0.3307344317436218\n",
      "Epoch 13: r2_train = 0.22720664739608765, r2_test = 0.341669499874115\n",
      "Epoch 14: r2_train = 0.23822760581970215, r2_test = 0.38042110204696655\n",
      "Epoch 15: r2_train = 0.2506527900695801, r2_test = 0.3844988942146301\n",
      "Epoch 16: r2_train = 0.2638986110687256, r2_test = 0.39862877130508423\n",
      "Epoch 17: r2_train = 0.29236823320388794, r2_test = 0.416995644569397\n",
      "Epoch 18: r2_train = 0.29666203260421753, r2_test = 0.4170013666152954\n",
      "Epoch 19: r2_train = 0.30948811769485474, r2_test = 0.42033523321151733\n",
      "Epoch 20: r2_train = 0.3100906014442444, r2_test = 0.4127378463745117\n",
      "Epoch 21: r2_train = 0.3176227807998657, r2_test = 0.456243097782135\n",
      "Epoch 22: r2_train = 0.3261544704437256, r2_test = 0.44125866889953613\n",
      "Epoch 23: r2_train = 0.33483147621154785, r2_test = 0.4427681565284729\n",
      "Epoch 24: r2_train = 0.3547224998474121, r2_test = 0.4429317116737366\n",
      "Epoch 25: r2_train = 0.3578314185142517, r2_test = 0.4553259611129761\n",
      "Epoch 26: r2_train = 0.35712599754333496, r2_test = 0.44364696741104126\n",
      "Epoch 27: r2_train = 0.36270129680633545, r2_test = 0.4602937698364258\n",
      "Epoch 28: r2_train = 0.38146698474884033, r2_test = 0.485146701335907\n",
      "Epoch 29: r2_train = 0.3820223808288574, r2_test = 0.45083343982696533\n",
      "Epoch 30: r2_train = 0.3927350640296936, r2_test = 0.46235746145248413\n"
     ]
    }
   ],
   "source": [
    "model = FeedForward(8, 400)\n",
    "print(model)\n",
    "criterion = nn.MSELoss()\n",
    "optimizer = torch.optim.SGD(model.parameters(), lr=0.0005, momentum=0.0)\n",
    "r2_train_SGD, r2_test_SGD = model_comparing(model, optimizer)\n",
    "\n",
    "# optimizer = torch.optim.SGD(model.parameters(), lr=0.01)"
   ]
  },
  {
   "cell_type": "code",
   "execution_count": 14,
   "id": "c56ab1d9",
   "metadata": {},
   "outputs": [
    {
     "data": {
      "image/png": "[encoded data removed]",
      "text/plain": [
       "<Figure size 432x288 with 1 Axes>"
      ]
     },
     "metadata": {
      "needs_background": "light"
     },
     "output_type": "display_data"
    }
   ],
   "source": [
    "metrics_view(r2_train_SGD, r2_test_SGD, 'SGD')"
   ]
  },
  {
   "cell_type": "code",
   "execution_count": 15,
   "id": "4474d9fb",
   "metadata": {},
   "outputs": [
    {
     "name": "stdout",
     "output_type": "stream",
     "text": [
      "Epoch 1: r2_train = 0.20997416973114014, r2_test = 0.4590280055999756\n",
      "Epoch 2: r2_train = 0.4780007004737854, r2_test = 0.5858529806137085\n",
      "Epoch 3: r2_train = 0.5416837930679321, r2_test = 0.6153951287269592\n",
      "Epoch 4: r2_train = 0.595749020576477, r2_test = 0.6565349102020264\n",
      "Epoch 5: r2_train = 0.6224818825721741, r2_test = 0.6889806985855103\n",
      "Epoch 6: r2_train = 0.6367179155349731, r2_test = 0.6988798975944519\n",
      "Epoch 7: r2_train = 0.6567376255989075, r2_test = 0.6554422378540039\n",
      "Epoch 8: r2_train = 0.6705615520477295, r2_test = 0.6237751245498657\n",
      "Epoch 9: r2_train = 0.6821906566619873, r2_test = 0.6532636284828186\n",
      "Epoch 10: r2_train = 0.6913800239562988, r2_test = 0.7108246088027954\n",
      "Epoch 11: r2_train = 0.6942223906517029, r2_test = 0.6712669134140015\n",
      "Epoch 12: r2_train = 0.7007818222045898, r2_test = 0.7235013246536255\n",
      "Epoch 13: r2_train = 0.7084327936172485, r2_test = 0.6827805638313293\n",
      "Epoch 14: r2_train = 0.7121014595031738, r2_test = 0.7196323871612549\n",
      "Epoch 15: r2_train = 0.7096899151802063, r2_test = 0.6664974689483643\n",
      "Epoch 16: r2_train = 0.7187666893005371, r2_test = 0.7533880472183228\n",
      "Epoch 17: r2_train = 0.7250608801841736, r2_test = 0.6892516613006592\n",
      "Epoch 18: r2_train = 0.7260569334030151, r2_test = 0.7329807281494141\n",
      "Epoch 19: r2_train = 0.7247394323348999, r2_test = 0.7244943380355835\n",
      "Epoch 20: r2_train = 0.7326186895370483, r2_test = 0.7257418632507324\n",
      "Epoch 21: r2_train = 0.7299013733863831, r2_test = 0.7468948364257812\n",
      "Epoch 22: r2_train = 0.7395048141479492, r2_test = 0.7494850158691406\n",
      "Epoch 23: r2_train = 0.7273861169815063, r2_test = 0.734123945236206\n",
      "Epoch 24: r2_train = 0.7416418194770813, r2_test = 0.7549800872802734\n",
      "Epoch 25: r2_train = 0.744690477848053, r2_test = 0.6721270084381104\n",
      "Epoch 26: r2_train = 0.7419485449790955, r2_test = 0.7102575302124023\n",
      "Epoch 27: r2_train = 0.7432243824005127, r2_test = 0.7506427764892578\n",
      "Epoch 28: r2_train = 0.7515878081321716, r2_test = 0.6897928714752197\n",
      "Epoch 29: r2_train = 0.7474558353424072, r2_test = 0.7745990753173828\n",
      "Epoch 30: r2_train = 0.7434242367744446, r2_test = 0.7361258864402771\n"
     ]
    }
   ],
   "source": [
    "model = FeedForward(8, 400)\n",
    "# print(model)\n",
    "criterion = nn.MSELoss()\n",
    "optimizer = torch.optim.RMSprop(model.parameters(), lr=0.0005)\n",
    "r2_train_RMSprop, r2_test_RMSprop = model_comparing(model, optimizer)"
   ]
  },
  {
   "cell_type": "code",
   "execution_count": 16,
   "id": "78a34f66",
   "metadata": {},
   "outputs": [
    {
     "data": {
      "image/png": "[encoded data removed]",
      "text/plain": [
       "<Figure size 432x288 with 1 Axes>"
      ]
     },
     "metadata": {
      "needs_background": "light"
     },
     "output_type": "display_data"
    }
   ],
   "source": [
    "metrics_view(r2_train_RMSprop, r2_test_RMSprop, 'RMSprop')"
   ]
  },
  {
   "cell_type": "code",
   "execution_count": 17,
   "id": "d52a8a40",
   "metadata": {},
   "outputs": [
    {
     "name": "stdout",
     "output_type": "stream",
     "text": [
      "Epoch 1: r2_train = 0.035970091819763184, r2_test = 0.4587562680244446\n",
      "Epoch 2: r2_train = 0.42648082971572876, r2_test = 0.5079065561294556\n",
      "Epoch 3: r2_train = 0.5105014443397522, r2_test = 0.5673500299453735\n",
      "Epoch 4: r2_train = 0.5645201206207275, r2_test = 0.6113671064376831\n",
      "Epoch 5: r2_train = 0.6004697680473328, r2_test = 0.6479049921035767\n",
      "Epoch 6: r2_train = 0.6223888397216797, r2_test = 0.6352270841598511\n",
      "Epoch 7: r2_train = 0.6367835998535156, r2_test = 0.6907980442047119\n",
      "Epoch 8: r2_train = 0.6549997925758362, r2_test = 0.6699991226196289\n",
      "Epoch 9: r2_train = 0.672423779964447, r2_test = 0.6944565773010254\n",
      "Epoch 10: r2_train = 0.678411066532135, r2_test = 0.6783623695373535\n",
      "Epoch 11: r2_train = 0.6810673475265503, r2_test = 0.7036632299423218\n",
      "Epoch 12: r2_train = 0.686703085899353, r2_test = 0.7016524076461792\n",
      "Epoch 13: r2_train = 0.6958799362182617, r2_test = 0.6866584420204163\n",
      "Epoch 14: r2_train = 0.6966432332992554, r2_test = 0.7243157029151917\n",
      "Epoch 15: r2_train = 0.7048995494842529, r2_test = 0.7382681369781494\n",
      "Epoch 16: r2_train = 0.700883150100708, r2_test = 0.6765505075454712\n",
      "Epoch 17: r2_train = 0.7055431604385376, r2_test = 0.7410261631011963\n",
      "Epoch 18: r2_train = 0.7097550630569458, r2_test = 0.6852569580078125\n",
      "Epoch 19: r2_train = 0.718122661113739, r2_test = 0.7320416569709778\n",
      "Epoch 20: r2_train = 0.7236976027488708, r2_test = 0.691095769405365\n",
      "Epoch 21: r2_train = 0.7299360036849976, r2_test = 0.7497245073318481\n",
      "Epoch 22: r2_train = 0.7214747667312622, r2_test = 0.6820755004882812\n",
      "Epoch 23: r2_train = 0.7241723537445068, r2_test = 0.7549573183059692\n",
      "Epoch 24: r2_train = 0.7242727279663086, r2_test = 0.6984250545501709\n",
      "Epoch 25: r2_train = 0.730133056640625, r2_test = 0.7052724361419678\n",
      "Epoch 26: r2_train = 0.7354409694671631, r2_test = 0.7502741813659668\n",
      "Epoch 27: r2_train = 0.7333260178565979, r2_test = 0.7559377551078796\n",
      "Epoch 28: r2_train = 0.7368655204772949, r2_test = 0.7476741075515747\n",
      "Epoch 29: r2_train = 0.7365515232086182, r2_test = 0.680550217628479\n",
      "Epoch 30: r2_train = 0.7393662929534912, r2_test = 0.7090263962745667\n"
     ]
    }
   ],
   "source": [
    "model = FeedForward(8, 400)\n",
    "# print(model)\n",
    "criterion = nn.MSELoss()\n",
    "optimizer = torch.optim.Adam(model.parameters(), lr=0.0005)\n",
    "r2_train_Adam, r2_test_Adam = model_comparing(model, optimizer)"
   ]
  },
  {
   "cell_type": "code",
   "execution_count": 18,
   "id": "376c1c6e",
   "metadata": {},
   "outputs": [
    {
     "data": {
      "image/png": "[encoded data removed]",
      "text/plain": [
       "<Figure size 432x288 with 1 Axes>"
      ]
     },
     "metadata": {
      "needs_background": "light"
     },
     "output_type": "display_data"
    }
   ],
   "source": [
    "metrics_view(r2_train_Adam, r2_test_Adam, 'Adam')"
   ]
  },
  {
   "cell_type": "code",
   "execution_count": 19,
   "id": "2e7d7ff2",
   "metadata": {},
   "outputs": [
    {
     "data": {
      "text/html": [
       "<div>\n",
       "<style scoped>\n",
       "    .dataframe tbody tr th:only-of-type {\n",
       "        vertical-align: middle;\n",
       "    }\n",
       "\n",
       "    .dataframe tbody tr th {\n",
       "        vertical-align: top;\n",
       "    }\n",
       "\n",
       "    .dataframe thead th {\n",
       "        text-align: right;\n",
       "    }\n",
       "</style>\n",
       "<table border=\"1\" class=\"dataframe\">\n",
       "  <thead>\n",
       "    <tr style=\"text-align: right;\">\n",
       "      <th></th>\n",
       "      <th>r2_train</th>\n",
       "      <th>r2_test</th>\n",
       "    </tr>\n",
       "  </thead>\n",
       "  <tbody>\n",
       "    <tr>\n",
       "      <th>RMSprop</th>\n",
       "      <td>0.743424</td>\n",
       "      <td>0.736126</td>\n",
       "    </tr>\n",
       "    <tr>\n",
       "      <th>Adam</th>\n",
       "      <td>0.739366</td>\n",
       "      <td>0.709026</td>\n",
       "    </tr>\n",
       "    <tr>\n",
       "      <th>SGD</th>\n",
       "      <td>0.392735</td>\n",
       "      <td>0.462357</td>\n",
       "    </tr>\n",
       "  </tbody>\n",
       "</table>\n",
       "</div>"
      ],
      "text/plain": [
       "         r2_train   r2_test\n",
       "RMSprop  0.743424  0.736126\n",
       "Adam     0.739366  0.709026\n",
       "SGD      0.392735  0.462357"
      ]
     },
     "execution_count": 19,
     "metadata": {},
     "output_type": "execute_result"
    }
   ],
   "source": [
    "metrics_result = pd.DataFrame([{'r2_train': r2_train_SGD[-1].item(), 'r2_test': r2_test_SGD[-1].item()},\n",
    "                               {'r2_train': r2_train_RMSprop[-1].item(), 'r2_test': r2_test_RMSprop[-1].item()},\n",
    "                               {'r2_train': r2_train_Adam[-1].item(), 'r2_test': r2_test_Adam[-1].item()},\n",
    "                              ],\n",
    "                              index = ['SGD', 'RMSprop', 'Adam'], \n",
    "                              columns = ['r2_train', 'r2_test'])\n",
    "\n",
    "metrics_result.sort_values(by='r2_test', ascending=False)"
   ]
  },
  {
   "cell_type": "markdown",
   "id": "accc4d13",
   "metadata": {},
   "source": [
    "На тестовой выборке лучше всего работает RMSprop, но и ADAM почти такое же значение"
   ]
  }
 ],
 "metadata": {
  "kernelspec": {
   "display_name": "Python 3 (ipykernel)",
   "language": "python",
   "name": "python3"
  },
  "language_info": {
   "codemirror_mode": {
    "name": "ipython",
    "version": 3
   },
   "file_extension": ".py",
   "mimetype": "text/x-python",
   "name": "python",
   "nbconvert_exporter": "python",
   "pygments_lexer": "ipython3",
   "version": "3.9.7"
  }
 },
 "nbformat": 4,
 "nbformat_minor": 5
}
